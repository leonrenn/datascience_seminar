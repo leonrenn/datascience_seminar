{
 "cells": [
  {
   "cell_type": "markdown",
   "metadata": {},
   "source": [
    "# Latent Space Distribution in dependence of the Scaling of Gaussian Signals"
   ]
  },
  {
   "cell_type": "markdown",
   "metadata": {},
   "source": [
    "### Import Modules"
   ]
  },
  {
   "cell_type": "code",
   "execution_count": 1,
   "metadata": {},
   "outputs": [],
   "source": [
    "# external modules\n",
    "import torch\n",
    "import matplotlib.pyplot as plt\n",
    "import numpy as np\n",
    "import imageio.v3 as iio\n",
    "import os\n",
    "\n",
    "# internal modules\n",
    "from AE_model import AutoEncoder\n",
    "from dataset_AE import Dataset_1d"
   ]
  },
  {
   "cell_type": "markdown",
   "metadata": {},
   "source": [
    "## 1) Load the Model"
   ]
  },
  {
   "cell_type": "markdown",
   "metadata": {},
   "source": [
    "### Parameters for Net Structure and Data Generation"
   ]
  },
  {
   "cell_type": "code",
   "execution_count": 2,
   "metadata": {},
   "outputs": [],
   "source": [
    "# taken from training procedure\n",
    "\n",
    "# net parameters\n",
    "latent_dimension = 2\n",
    "variable_space = 20\n",
    "steps = 5 # not needed \n",
    "\n",
    "# model params\n",
    "size = 1000\n",
    "generations = 10 # reduced in contrast to training\n",
    "batch_size = 64 # not needed "
   ]
  },
  {
   "cell_type": "code",
   "execution_count": 3,
   "metadata": {},
   "outputs": [
    {
     "data": {
      "text/plain": [
       "<All keys matched successfully>"
      ]
     },
     "execution_count": 3,
     "metadata": {},
     "output_type": "execute_result"
    }
   ],
   "source": [
    "# path to file\n",
    "PATH: str = \"trained_models/AE_NN.pth\"\n",
    "# load model \n",
    "model = AutoEncoder(latent_dimension=latent_dimension,\n",
    "                    variable_space=variable_space,\n",
    "                    steps=steps)\n",
    "PNN_state_dict = torch.load(PATH)\n",
    "model.load_state_dict(PNN_state_dict)"
   ]
  },
  {
   "cell_type": "markdown",
   "metadata": {},
   "source": [
    "## 2) Data Generation and Evaluating the Model"
   ]
  },
  {
   "cell_type": "code",
   "execution_count": 4,
   "metadata": {},
   "outputs": [],
   "source": [
    "# same space as in the training\n",
    "# TODO: see if the net parameterizes well\n",
    "scales = np.linspace(0.1, 2, 100)\n",
    "\n",
    "# results stored in a dictionary\n",
    "results = {}\n",
    "\n",
    "# iterating through scale values\n",
    "for scale in scales:\n",
    "    # store result in dict\n",
    "    results[scale] = []\n",
    "    dataset = Dataset_1d(variable_space=variable_space,\n",
    "                      size=size,\n",
    "                      generations=generations,\n",
    "                      random_scaling=scale)\n",
    "    for gen_idx in range(generations):\n",
    "        # evaluate latent space for every signal\n",
    "        results[scale].append(model.encoder(dataset[gen_idx]).detach().numpy())\n",
    "    results[scale] = np.array(results[scale])\n"
   ]
  },
  {
   "cell_type": "markdown",
   "metadata": {},
   "source": [
    "## 3) Plotting the Model"
   ]
  },
  {
   "cell_type": "markdown",
   "metadata": {},
   "source": [
    "### 3.1) Animation of Latent Space"
   ]
  },
  {
   "cell_type": "code",
   "execution_count": 14,
   "metadata": {},
   "outputs": [
    {
     "data": {
      "text/plain": [
       "<Figure size 432x288 with 0 Axes>"
      ]
     },
     "metadata": {},
     "output_type": "display_data"
    }
   ],
   "source": [
    "# for this the latent space must have two dimension\n",
    "scales_normed = scales/scales.max()\n",
    "# all variables\n",
    "x_all = []\n",
    "y_all = []\n",
    "for scale_idx, scale in enumerate(scales):\n",
    "    x = []\n",
    "    y = []\n",
    "    for index, latent_space_coordinates in enumerate(results[scale]):\n",
    "        x.append(latent_space_coordinates[0])\n",
    "        y.append(latent_space_coordinates[1])\n",
    "\n",
    "    plt.scatter(x,y, c=np.ones_like(x) * scales_normed[scale_idx])\n",
    "    plt.title(f\"Data for Scale {round(scale, 2)}\")\n",
    "    plt.xlim([-10, 10])\n",
    "    plt.ylim([-10, 10])\n",
    "    plt.colorbar()\n",
    "    plt.clim(vmin=0.0, vmax=1.0)\n",
    "    plt.savefig(f\"frames/scale_{scale}.png\")\n",
    "    plt.clf()\n",
    "\n",
    "    x_all.append(x)\n",
    "    y_all.append(y)\n",
    "x_all = np.array(x_all).reshape((10* 100,))\n",
    "y_all = np.array(y_all).reshape((10* 100,))\n",
    "plt.scatter(x,y, c=np.ones_like(x) * scales_normed[scale_idx])\n",
    "plt.title(f\"Full Scale\")\n",
    "plt.xlim([-10, 10])\n",
    "plt.ylim([-10, 10])\n",
    "plt.colorbar()\n",
    "plt.clim(vmin=0.0, vmax=1.0)\n",
    "plt.savefig(f\"frames/scale_full.png\")\n",
    "plt.clf()"
   ]
  },
  {
   "cell_type": "code",
   "execution_count": 15,
   "metadata": {},
   "outputs": [
    {
     "name": "stdout",
     "output_type": "stream",
     "text": [
      "(1000,)\n"
     ]
    }
   ],
   "source": []
  },
  {
   "cell_type": "markdown",
   "metadata": {},
   "source": [
    "### Stack the Frames"
   ]
  },
  {
   "cell_type": "code",
   "execution_count": 6,
   "metadata": {},
   "outputs": [],
   "source": [
    "frames = np.stack([iio.imread(f\"frames/scale_{scale}.png\") for scale in scales ], axis=0)\n",
    "# include all point in last frame\n",
    "frames = np.stack([frames, iio.imread(f\"frames/scale_full.png\")], axis=0)\n",
    "iio.imwrite('animations/AE_scale_formation.gif', frames)"
   ]
  },
  {
   "cell_type": "markdown",
   "metadata": {},
   "source": [
    "### Delete Frames"
   ]
  },
  {
   "cell_type": "code",
   "execution_count": 7,
   "metadata": {},
   "outputs": [
    {
     "name": "stdout",
     "output_type": "stream",
     "text": [
      "Successfullly deleted all frames.\n"
     ]
    }
   ],
   "source": [
    "if os.system(command=\"rm -rf frames/*\") == 0:\n",
    "    print(\"Successfullly deleted all frames.\")"
   ]
  }
 ],
 "metadata": {
  "kernelspec": {
   "display_name": "Python 3.9.13 64-bit",
   "language": "python",
   "name": "python3"
  },
  "language_info": {
   "codemirror_mode": {
    "name": "ipython",
    "version": 3
   },
   "file_extension": ".py",
   "mimetype": "text/x-python",
   "name": "python",
   "nbconvert_exporter": "python",
   "pygments_lexer": "ipython3",
   "version": "3.9.13"
  },
  "orig_nbformat": 4,
  "vscode": {
   "interpreter": {
    "hash": "b0fa6594d8f4cbf19f97940f81e996739fb7646882a419484c72d19e05852a7e"
   }
  }
 },
 "nbformat": 4,
 "nbformat_minor": 2
}
