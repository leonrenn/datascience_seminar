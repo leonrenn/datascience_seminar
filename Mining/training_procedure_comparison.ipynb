{
 "cells": [
  {
   "attachments": {},
   "cell_type": "markdown",
   "metadata": {},
   "source": [
    "# Training Procedure Comparison Vanilla PNN to Mining Gold"
   ]
  },
  {
   "attachments": {},
   "cell_type": "markdown",
   "metadata": {},
   "source": [
    "### Import Modules"
   ]
  },
  {
   "cell_type": "code",
   "execution_count": 1,
   "metadata": {},
   "outputs": [],
   "source": [
    "import os\n",
    "from typing import Any\n",
    "\n",
    "import imageio.v3 as iio\n",
    "import matplotlib.pyplot as plt\n",
    "import numpy as np\n",
    "import pytorch_lightning as pl\n",
    "import torch\n",
    "import torch.nn as nn\n",
    "from torch.distributions import Normal\n",
    "from torch.optim import Adam\n",
    "from torch.utils.data import Dataset, DataLoader\n",
    "import torch.nn.functional as F\n",
    "from pytorch_lightning.trainer import Trainer"
   ]
  },
  {
   "attachments": {},
   "cell_type": "markdown",
   "metadata": {},
   "source": [
    "## 1. Define Dataset\n"
   ]
  },
  {
   "cell_type": "code",
   "execution_count": 2,
   "metadata": {},
   "outputs": [],
   "source": [
    "class GoldGenerator(Dataset):\n",
    "    def __init__(self) -> None:\n",
    "        super().__init__()\n",
    "\n",
    "        # seed\n",
    "        torch.random.seed()\n",
    "\n",
    "        # dataset\n",
    "        self.dataset = {}\n",
    "\n",
    "        # num of points and generations\n",
    "        self.data_points = 100\n",
    "        self.generations = 100\n",
    "\n",
    "        # theta hypothesis\n",
    "        param_size = 1\n",
    "        theta_0 = 0.0\n",
    "        theta_1 = torch.linspace(1, 1, param_size)\n",
    "\n",
    "        # std for data generation\n",
    "        x_std = 0.1\n",
    "        z_std = 1.0\n",
    "\n",
    "        for gen_idx in range(self.generations):\n",
    "            # select random theta_1\n",
    "            theta_1_param = theta_1[torch.randint(0, param_size, size=(1,))[0]]\n",
    "\n",
    "            # distributions\n",
    "            dist_0 = Normal(loc=theta_0, scale=z_std)\n",
    "            dist_1 = Normal(loc=theta_1_param, scale=z_std)\n",
    "\n",
    "            # target labels and parameter thetas\n",
    "            theta_0_tensor = torch.zeros(self.data_points)\n",
    "            theta_1_tensor = torch.ones(self.data_points)\n",
    "            y = torch.vstack([theta_0_tensor[:int(self.data_points/2)],\n",
    "                              theta_1_tensor[:int(self.data_points/2)]])\n",
    "\n",
    "            # empty tensors\n",
    "            X = torch.empty((self.data_points, 3))\n",
    "            Y = torch.empty((self.data_points, 2))\n",
    "\n",
    "            # from theta_0\n",
    "            z0 = dist_0.rsample((int(self.data_points/2),))\n",
    "            # from theta_1\n",
    "            z1 = dist_1.rsample((int(self.data_points/2),))\n",
    "            Z = torch.vstack([z0, z1])\n",
    "\n",
    "            # from z0\n",
    "            x0 = Normal(loc=z0, scale=x_std).rsample((1,))\n",
    "            # from z1\n",
    "            x1 = Normal(loc=z1, scale=x_std).rsample((1,))\n",
    "            x = torch.hstack([x0, x1]).reshape((self.data_points,))\n",
    "            X[:, 0] = x\n",
    "            X[:, 1] = theta_0_tensor\n",
    "            X[:, 2] = theta_1_tensor * theta_1_param  # for paramterization\n",
    "\n",
    "            # ratio calculation\n",
    "            r_xz = dist_0.log_prob(Z) - dist_1.log_prob(Z)\n",
    "\n",
    "            # targets\n",
    "            Y[:, 0] = y.reshape((self.data_points,))\n",
    "            Y[:, 1] = r_xz.reshape((self.data_points,))\n",
    "\n",
    "            self.dataset[gen_idx] = (X, Y)\n",
    "\n",
    "    def __len__(self):\n",
    "        return self.generations\n",
    "\n",
    "    def __getitem__(self, index):\n",
    "        return self.dataset[index][0], self.dataset[index][1]"
   ]
  },
  {
   "attachments": {},
   "cell_type": "markdown",
   "metadata": {},
   "source": [
    "## 2. Define Model"
   ]
  },
  {
   "cell_type": "code",
   "execution_count": 3,
   "metadata": {},
   "outputs": [],
   "source": [
    "class Model(pl.LightningModule):\n",
    "    def __init__(self,\n",
    "                 mode: str = \"vanilla\", # or mining\n",
    "                 generate_gif = False) -> None:\n",
    "        super().__init__()\n",
    "\n",
    "        # mode \n",
    "        if mode not in [\"vanilla\", \"mining\"]:\n",
    "            raise Exception(\"Unknown mode.\")\n",
    "            \n",
    "        self.mode = mode\n",
    "\n",
    "\n",
    "        # generate gif\n",
    "        self.generate_gif = generate_gif\n",
    "\n",
    "        # total loss on epoch end\n",
    "        self.total_loss = []\n",
    "        self.epoch_end = False\n",
    "\n",
    "        self.net = nn.Sequential(\n",
    "            nn.Linear(3, 10),\n",
    "            nn.PReLU(),\n",
    "            nn.Linear(10, 10),\n",
    "            nn.PReLU(),\n",
    "            nn.Linear(10, 10),\n",
    "            nn.PReLU(),\n",
    "            nn.Linear(10, 1)\n",
    "        )\n",
    "\n",
    "    def forward(self, x) -> Any:\n",
    "        output = self.net(x)\n",
    "        return output\n",
    "\n",
    "    def configure_optimizers(self):\n",
    "        optim = Adam(self.parameters())\n",
    "        return optim\n",
    "\n",
    "    def training_step(self, train_batch, batch_idx):\n",
    "        \n",
    "        # due to the different loss function \n",
    "        # this must be splitted into two cases\n",
    "\n",
    "        # MINING MODEL\n",
    "        if self.mode == \"mining\":\n",
    "\n",
    "            X, Y = train_batch\n",
    "\n",
    "            # output of the model\n",
    "            ratio_hat = self.net(X).view(-1).exp()\n",
    "\n",
    "            # unpack Y\n",
    "            targets, ratio = Y[:, :, 0].view(-1), Y[:, :, 1].view(-1).exp()\n",
    "\n",
    "            # loss function\n",
    "            loss = 1/ratio.shape[0] * torch.sum(targets * (\n",
    "                ratio - ratio_hat)**2 + targets * (1/ratio - 1/ratio_hat)**2)\n",
    "            self.log(\"train_loss\", loss)\n",
    "\n",
    "            if self.epoch_end is True:\n",
    "                self.total_loss.append(loss.detach().numpy())\n",
    "                self.epoch_end = False\n",
    "            return loss\n",
    "        \n",
    "        # VANILLLA\n",
    "        else:\n",
    "\n",
    "            X, Y = train_batch\n",
    "            Y_hat = self.net(X)\n",
    "            Y_hat = 1/(1 + torch.exp(Y_hat))\n",
    "\n",
    "            # unpack Y\n",
    "            targets, _ = Y[:, :, 0].view(-1), Y[:, :, 1].view(-1).exp()\n",
    "\n",
    "            # loss function\n",
    "            loss = F.binary_cross_entropy(Y_hat.view(-1), targets)\n",
    "            self.log(\"train_loss\", loss)\n",
    "\n",
    "            if self.epoch_end is True:\n",
    "                self.total_loss.append(loss.detach().numpy())\n",
    "                self.epoch_end = False\n",
    "            return loss\n",
    "\n",
    "    def on_epoch_end(self):\n",
    "        # toggle epoch end for easy loss display\n",
    "        self.epoch_end = True\n",
    "\n",
    "        # generating training gif\n",
    "        if self.generate_gif is True:\n",
    "            x_min, x_max = -3, 4\n",
    "            y_min, y_max = -3, 4\n",
    "            size = 20\n",
    "            X = torch.empty((size, 3))\n",
    "            X[:, 0] = torch.linspace(x_min, x_max, size)\n",
    "            X[:, 1] = torch.zeros(size)\n",
    "            X[:, 2] = torch.ones(size)\n",
    "\n",
    "            output = self.net(X).detach().numpy()\n",
    "\n",
    "            true_log_ratio = Normal(loc=0, scale=1).log_prob(\n",
    "                X[:, 0]) - Normal(loc=1, scale=1).log_prob(X[:, 0])\n",
    "\n",
    "            plt.plot(X[:, 0].detach().numpy(), output,\n",
    "                     \"ro\", label=\"Model Output\")\n",
    "            plt.plot(X[:, 0].detach().numpy(), true_log_ratio.detach(\n",
    "            ).numpy(), \"b-\", label=\"True Log Ratio\")\n",
    "            plt.legend()\n",
    "            plt.xlabel(\"X\")\n",
    "            plt.ylabel(\"Log Likelihood Ratio\")\n",
    "            plt.title(f\"Epoch {len(self.total_loss)}\")\n",
    "            plt.xlim(x_min, x_max)\n",
    "            plt.ylim(y_min, y_max)\n",
    "            plt.savefig(f\"frames/train_epoch_{len(self.total_loss)}.png\")\n",
    "            plt.clf()\n",
    "        return\n",
    "\n",
    "    def on_train_end(self) -> None:\n",
    "        if self.generate_gif is True:\n",
    "            frames = np.stack([iio.imread(f'frames/train_epoch_{epoch}.png')\n",
    "                               for epoch in range(len(self.total_loss))],\n",
    "                              axis=0)\n",
    "            if self.mode == \"vanilla\":\n",
    "                iio.imwrite('animations/ratio_training_vanilla.gif', frames)\n",
    "            else:\n",
    "                iio.imwrite('animations/ratio_training_mining.gif', frames)\n",
    "            os.system(\"cd frames && rm -rf  *.png && cd ..\")\n",
    "        print(\"GIF DONE\")\n",
    "        return\n"
   ]
  },
  {
   "attachments": {},
   "cell_type": "markdown",
   "metadata": {},
   "source": [
    "## 3. Initialize Model"
   ]
  },
  {
   "cell_type": "code",
   "execution_count": 4,
   "metadata": {},
   "outputs": [],
   "source": [
    "mining_model = Model(mode=\"mining\", generate_gif=True)\n",
    "vanilla_model = Model(mode=\"vanilla\", generate_gif=True)"
   ]
  },
  {
   "attachments": {},
   "cell_type": "markdown",
   "metadata": {},
   "source": [
    "## 4. Create Dataset"
   ]
  },
  {
   "cell_type": "code",
   "execution_count": 5,
   "metadata": {},
   "outputs": [],
   "source": [
    "dataset = GoldGenerator()\n",
    "dataloader = DataLoader(dataset, batch_size=16, shuffle=True)"
   ]
  },
  {
   "attachments": {},
   "cell_type": "markdown",
   "metadata": {},
   "source": [
    "## 5. Initialize Trainer"
   ]
  },
  {
   "cell_type": "code",
   "execution_count": 6,
   "metadata": {},
   "outputs": [
    {
     "name": "stderr",
     "output_type": "stream",
     "text": [
      "GPU available: False, used: False\n",
      "TPU available: False, using: 0 TPU cores\n",
      "IPU available: False, using: 0 IPUs\n",
      "HPU available: False, using: 0 HPUs\n",
      "GPU available: False, used: False\n",
      "TPU available: False, using: 0 TPU cores\n",
      "IPU available: False, using: 0 IPUs\n",
      "HPU available: False, using: 0 HPUs\n"
     ]
    }
   ],
   "source": [
    "trainer_vanilla = Trainer(max_epochs=50)\n",
    "trainer_mining = Trainer(max_epochs=50)"
   ]
  },
  {
   "attachments": {},
   "cell_type": "markdown",
   "metadata": {},
   "source": [
    "## 6. Train"
   ]
  },
  {
   "attachments": {},
   "cell_type": "markdown",
   "metadata": {},
   "source": [
    "### Train on the mining model"
   ]
  },
  {
   "cell_type": "code",
   "execution_count": 7,
   "metadata": {},
   "outputs": [
    {
     "name": "stderr",
     "output_type": "stream",
     "text": [
      "/opt/homebrew/lib/python3.9/site-packages/pytorch_lightning/trainer/configuration_validator.py:307: LightningDeprecationWarning: The `LightningModule.on_epoch_end` hook was deprecated in v1.6 and will be removed in v1.8. Please use `LightningModule.on_<train/validation/test>_epoch_end` instead.\n",
      "  rank_zero_deprecation(\n",
      "\n",
      "  | Name | Type       | Params\n",
      "------------------------------------\n",
      "0 | net  | Sequential | 274   \n",
      "------------------------------------\n",
      "274       Trainable params\n",
      "0         Non-trainable params\n",
      "274       Total params\n",
      "0.001     Total estimated model params size (MB)\n",
      "/opt/homebrew/lib/python3.9/site-packages/pytorch_lightning/trainer/connectors/data_connector.py:240: PossibleUserWarning: The dataloader, train_dataloader, does not have many workers which may be a bottleneck. Consider increasing the value of the `num_workers` argument` (try 8 which is the number of cpus on this machine) in the `DataLoader` init to improve performance.\n",
      "  rank_zero_warn(\n",
      "/opt/homebrew/lib/python3.9/site-packages/pytorch_lightning/trainer/trainer.py:1938: PossibleUserWarning: The number of training samples (7) is smaller than the logging interval Trainer(log_every_n_steps=50). Set a lower value for log_every_n_steps if you want to see logs for the training epoch.\n",
      "  rank_zero_warn(\n"
     ]
    },
    {
     "data": {
      "application/vnd.jupyter.widget-view+json": {
       "model_id": "6c0eea89541444e3bb2c626ffbc48123",
       "version_major": 2,
       "version_minor": 0
      },
      "text/plain": [
       "Training: 0it [00:00, ?it/s]"
      ]
     },
     "metadata": {},
     "output_type": "display_data"
    },
    {
     "name": "stdout",
     "output_type": "stream",
     "text": [
      "GIF DONE\n"
     ]
    },
    {
     "data": {
      "text/plain": [
       "<Figure size 432x288 with 0 Axes>"
      ]
     },
     "metadata": {},
     "output_type": "display_data"
    }
   ],
   "source": [
    "trainer_mining.fit(mining_model,dataloader)"
   ]
  },
  {
   "attachments": {},
   "cell_type": "markdown",
   "metadata": {},
   "source": [
    "### Train on the vanilla model"
   ]
  },
  {
   "cell_type": "code",
   "execution_count": 8,
   "metadata": {},
   "outputs": [
    {
     "name": "stderr",
     "output_type": "stream",
     "text": [
      "/opt/homebrew/lib/python3.9/site-packages/pytorch_lightning/trainer/configuration_validator.py:307: LightningDeprecationWarning: The `LightningModule.on_epoch_end` hook was deprecated in v1.6 and will be removed in v1.8. Please use `LightningModule.on_<train/validation/test>_epoch_end` instead.\n",
      "  rank_zero_deprecation(\n",
      "\n",
      "  | Name | Type       | Params\n",
      "------------------------------------\n",
      "0 | net  | Sequential | 274   \n",
      "------------------------------------\n",
      "274       Trainable params\n",
      "0         Non-trainable params\n",
      "274       Total params\n",
      "0.001     Total estimated model params size (MB)\n",
      "/opt/homebrew/lib/python3.9/site-packages/pytorch_lightning/trainer/connectors/data_connector.py:240: PossibleUserWarning: The dataloader, train_dataloader, does not have many workers which may be a bottleneck. Consider increasing the value of the `num_workers` argument` (try 8 which is the number of cpus on this machine) in the `DataLoader` init to improve performance.\n",
      "  rank_zero_warn(\n",
      "/opt/homebrew/lib/python3.9/site-packages/pytorch_lightning/trainer/trainer.py:1938: PossibleUserWarning: The number of training samples (7) is smaller than the logging interval Trainer(log_every_n_steps=50). Set a lower value for log_every_n_steps if you want to see logs for the training epoch.\n",
      "  rank_zero_warn(\n"
     ]
    },
    {
     "data": {
      "application/vnd.jupyter.widget-view+json": {
       "model_id": "42e6ef5652444d508a961c74a10bd76a",
       "version_major": 2,
       "version_minor": 0
      },
      "text/plain": [
       "Training: 0it [00:00, ?it/s]"
      ]
     },
     "metadata": {},
     "output_type": "display_data"
    },
    {
     "name": "stdout",
     "output_type": "stream",
     "text": [
      "GIF DONE\n"
     ]
    },
    {
     "data": {
      "text/plain": [
       "<Figure size 432x288 with 0 Axes>"
      ]
     },
     "metadata": {},
     "output_type": "display_data"
    }
   ],
   "source": [
    "trainer_vanilla.fit(vanilla_model, dataloader)"
   ]
  },
  {
   "attachments": {},
   "cell_type": "markdown",
   "metadata": {},
   "source": [
    "## 7. Loss Comparison"
   ]
  },
  {
   "cell_type": "code",
   "execution_count": 12,
   "metadata": {},
   "outputs": [
    {
     "data": {
      "image/png": "[encoded data removed]",
      "text/plain": [
       "<Figure size 432x288 with 1 Axes>"
      ]
     },
     "metadata": {
      "needs_background": "light"
     },
     "output_type": "display_data"
    }
   ],
   "source": [
    "plt.plot(mining_model.total_loss, label = \"Mining\")\n",
    "plt.plot(vanilla_model.total_loss, label = \"Vanilla\")\n",
    "plt.semilogy()\n",
    "plt.legend()\n",
    "plt.show()"
   ]
  }
 ],
 "metadata": {
  "kernelspec": {
   "display_name": "Python 3",
   "language": "python",
   "name": "python3"
  },
  "language_info": {
   "codemirror_mode": {
    "name": "ipython",
    "version": 3
   },
   "file_extension": ".py",
   "mimetype": "text/x-python",
   "name": "python",
   "nbconvert_exporter": "python",
   "pygments_lexer": "ipython3",
   "version": "3.9.13"
  },
  "orig_nbformat": 4,
  "vscode": {
   "interpreter": {
    "hash": "b0fa6594d8f4cbf19f97940f81e996739fb7646882a419484c72d19e05852a7e"
   }
  }
 },
 "nbformat": 4,
 "nbformat_minor": 2
}
