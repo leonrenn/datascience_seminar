{
 "cells": [
  {
   "attachments": {},
   "cell_type": "markdown",
   "metadata": {},
   "source": [
    "# Train the golded Model"
   ]
  },
  {
   "attachments": {},
   "cell_type": "markdown",
   "metadata": {},
   "source": [
    "### Import Modules"
   ]
  },
  {
   "cell_type": "code",
   "execution_count": 2,
   "metadata": {},
   "outputs": [],
   "source": [
    "from pytorch_lightning import Trainer\n",
    "from torch.utils.data import DataLoader\n",
    "import torch\n",
    "from torch.distributions import Normal\n",
    "import matplotlib.pyplot as plt\n",
    "import numpy as np\n",
    "from dataset import GoldGenerator\n",
    "from model import Model"
   ]
  },
  {
   "attachments": {},
   "cell_type": "markdown",
   "metadata": {},
   "source": [
    "## 1) Load data"
   ]
  },
  {
   "cell_type": "code",
   "execution_count": 3,
   "metadata": {},
   "outputs": [
    {
     "name": "stdout",
     "output_type": "stream",
     "text": [
      "X Shape: torch.Size([100, 3])\n",
      "Y Shape: torch.Size([100, 3])\n"
     ]
    }
   ],
   "source": [
    "dataset = GoldGenerator()\n",
    "dataloader = DataLoader(dataset=dataset, shuffle=True, batch_size=16)\n",
    "print(f\"X Shape: {dataset[0][0].shape}\\nY Shape: {dataset[0][0].shape}\")"
   ]
  },
  {
   "cell_type": "code",
   "execution_count": 4,
   "metadata": {},
   "outputs": [
    {
     "name": "stdout",
     "output_type": "stream",
     "text": [
      "tensor([[ 0.0000e+00, -7.8180e-01],\n",
      "        [ 0.0000e+00, -5.1236e-01],\n",
      "        [ 0.0000e+00,  6.9766e-01],\n",
      "        [ 0.0000e+00,  1.5385e+00],\n",
      "        [ 0.0000e+00,  1.3011e+00],\n",
      "        [ 0.0000e+00,  1.7623e+00],\n",
      "        [ 0.0000e+00, -1.7260e-01],\n",
      "        [ 0.0000e+00,  1.3441e+00],\n",
      "        [ 0.0000e+00,  1.0762e+00],\n",
      "        [ 0.0000e+00, -1.8835e-01],\n",
      "        [ 0.0000e+00, -1.0250e+00],\n",
      "        [ 0.0000e+00,  5.8245e-01],\n",
      "        [ 0.0000e+00,  1.2797e+00],\n",
      "        [ 0.0000e+00, -4.9239e-01],\n",
      "        [ 0.0000e+00,  1.5113e+00],\n",
      "        [ 0.0000e+00,  3.8769e-01],\n",
      "        [ 0.0000e+00,  9.9386e-01],\n",
      "        [ 0.0000e+00,  9.5959e-01],\n",
      "        [ 0.0000e+00, -1.0613e+00],\n",
      "        [ 0.0000e+00,  1.2238e+00],\n",
      "        [ 0.0000e+00, -1.5515e-02],\n",
      "        [ 0.0000e+00,  7.1771e-01],\n",
      "        [ 0.0000e+00, -2.1276e-01],\n",
      "        [ 0.0000e+00,  1.5806e+00],\n",
      "        [ 0.0000e+00,  2.5056e-01],\n",
      "        [ 0.0000e+00,  1.1789e+00],\n",
      "        [ 0.0000e+00, -1.6940e-03],\n",
      "        [ 0.0000e+00,  1.3028e+00],\n",
      "        [ 0.0000e+00,  1.5472e+00],\n",
      "        [ 0.0000e+00, -3.8722e-01],\n",
      "        [ 0.0000e+00,  2.1448e+00],\n",
      "        [ 0.0000e+00,  2.5311e-01],\n",
      "        [ 0.0000e+00,  6.8745e-02],\n",
      "        [ 0.0000e+00, -9.4491e-01],\n",
      "        [ 0.0000e+00,  1.3285e+00],\n",
      "        [ 0.0000e+00,  1.7457e-02],\n",
      "        [ 0.0000e+00, -1.6027e+00],\n",
      "        [ 0.0000e+00,  2.6872e+00],\n",
      "        [ 0.0000e+00,  3.5750e-01],\n",
      "        [ 0.0000e+00,  4.6938e-01],\n",
      "        [ 0.0000e+00,  2.3022e+00],\n",
      "        [ 0.0000e+00,  5.7963e-01],\n",
      "        [ 0.0000e+00,  1.3959e+00],\n",
      "        [ 0.0000e+00, -1.4390e-01],\n",
      "        [ 0.0000e+00,  9.6934e-01],\n",
      "        [ 0.0000e+00,  3.6556e-01],\n",
      "        [ 0.0000e+00, -1.3294e+00],\n",
      "        [ 0.0000e+00,  4.1326e-01],\n",
      "        [ 0.0000e+00,  1.6720e+00],\n",
      "        [ 0.0000e+00,  2.1015e-01],\n",
      "        [ 1.0000e+00, -1.1252e+00],\n",
      "        [ 1.0000e+00, -8.8943e-01],\n",
      "        [ 1.0000e+00, -1.1140e-02],\n",
      "        [ 1.0000e+00, -1.0882e+00],\n",
      "        [ 1.0000e+00,  2.4258e-01],\n",
      "        [ 1.0000e+00, -4.0110e-01],\n",
      "        [ 1.0000e+00,  2.4324e-01],\n",
      "        [ 1.0000e+00, -3.9208e-01],\n",
      "        [ 1.0000e+00, -2.2991e+00],\n",
      "        [ 1.0000e+00,  1.3460e+00],\n",
      "        [ 1.0000e+00, -1.2114e+00],\n",
      "        [ 1.0000e+00, -1.7126e+00],\n",
      "        [ 1.0000e+00, -1.0557e+00],\n",
      "        [ 1.0000e+00, -1.0958e+00],\n",
      "        [ 1.0000e+00, -1.5533e+00],\n",
      "        [ 1.0000e+00, -1.0623e+00],\n",
      "        [ 1.0000e+00, -6.8493e-01],\n",
      "        [ 1.0000e+00, -1.0652e+00],\n",
      "        [ 1.0000e+00, -6.2776e-01],\n",
      "        [ 1.0000e+00, -9.8175e-01],\n",
      "        [ 1.0000e+00, -4.7467e-01],\n",
      "        [ 1.0000e+00, -1.6335e-01],\n",
      "        [ 1.0000e+00,  5.9095e-01],\n",
      "        [ 1.0000e+00, -1.5251e+00],\n",
      "        [ 1.0000e+00, -1.1274e+00],\n",
      "        [ 1.0000e+00, -1.4627e+00],\n",
      "        [ 1.0000e+00, -7.7033e-01],\n",
      "        [ 1.0000e+00, -3.3249e-01],\n",
      "        [ 1.0000e+00, -1.3149e+00],\n",
      "        [ 1.0000e+00, -1.3448e+00],\n",
      "        [ 1.0000e+00, -5.5124e-01],\n",
      "        [ 1.0000e+00, -4.4565e-01],\n",
      "        [ 1.0000e+00, -2.0763e-01],\n",
      "        [ 1.0000e+00,  9.2611e-01],\n",
      "        [ 1.0000e+00, -6.6069e-02],\n",
      "        [ 1.0000e+00, -7.2401e-01],\n",
      "        [ 1.0000e+00, -9.5598e-01],\n",
      "        [ 1.0000e+00, -8.8504e-01],\n",
      "        [ 1.0000e+00,  6.0455e-02],\n",
      "        [ 1.0000e+00, -4.7505e-02],\n",
      "        [ 1.0000e+00,  1.0427e+00],\n",
      "        [ 1.0000e+00,  5.8659e-01],\n",
      "        [ 1.0000e+00, -1.1490e+00],\n",
      "        [ 1.0000e+00, -1.4920e+00],\n",
      "        [ 1.0000e+00, -1.0673e+00],\n",
      "        [ 1.0000e+00, -2.2571e-01],\n",
      "        [ 1.0000e+00, -1.1334e+00],\n",
      "        [ 1.0000e+00,  5.8742e-01],\n",
      "        [ 1.0000e+00, -5.4051e-01],\n",
      "        [ 1.0000e+00,  1.3302e+00]])\n"
     ]
    }
   ],
   "source": [
    "print(dataset[2][1])"
   ]
  },
  {
   "attachments": {},
   "cell_type": "markdown",
   "metadata": {},
   "source": [
    "## 2) Train Model"
   ]
  },
  {
   "cell_type": "code",
   "execution_count": 5,
   "metadata": {},
   "outputs": [],
   "source": [
    "model = Model(generate_gif=True)"
   ]
  },
  {
   "cell_type": "code",
   "execution_count": 6,
   "metadata": {},
   "outputs": [
    {
     "name": "stderr",
     "output_type": "stream",
     "text": [
      "GPU available: False, used: False\n",
      "TPU available: False, using: 0 TPU cores\n",
      "IPU available: False, using: 0 IPUs\n",
      "HPU available: False, using: 0 HPUs\n",
      "/opt/homebrew/lib/python3.9/site-packages/pytorch_lightning/trainer/configuration_validator.py:307: LightningDeprecationWarning: The `LightningModule.on_epoch_end` hook was deprecated in v1.6 and will be removed in v1.8. Please use `LightningModule.on_<train/validation/test>_epoch_end` instead.\n",
      "  rank_zero_deprecation(\n",
      "\n",
      "  | Name | Type       | Params\n",
      "------------------------------------\n",
      "0 | net  | Sequential | 274   \n",
      "------------------------------------\n",
      "274       Trainable params\n",
      "0         Non-trainable params\n",
      "274       Total params\n",
      "0.001     Total estimated model params size (MB)\n",
      "/opt/homebrew/lib/python3.9/site-packages/pytorch_lightning/trainer/connectors/data_connector.py:240: PossibleUserWarning: The dataloader, train_dataloader, does not have many workers which may be a bottleneck. Consider increasing the value of the `num_workers` argument` (try 8 which is the number of cpus on this machine) in the `DataLoader` init to improve performance.\n",
      "  rank_zero_warn(\n",
      "/opt/homebrew/lib/python3.9/site-packages/pytorch_lightning/trainer/trainer.py:1938: PossibleUserWarning: The number of training samples (7) is smaller than the logging interval Trainer(log_every_n_steps=50). Set a lower value for log_every_n_steps if you want to see logs for the training epoch.\n",
      "  rank_zero_warn(\n"
     ]
    },
    {
     "data": {
      "application/vnd.jupyter.widget-view+json": {
       "model_id": "bfa982d495e5459e9cc12a830ae351fe",
       "version_major": 2,
       "version_minor": 0
      },
      "text/plain": [
       "Training: 0it [00:00, ?it/s]"
      ]
     },
     "metadata": {},
     "output_type": "display_data"
    },
    {
     "name": "stdout",
     "output_type": "stream",
     "text": [
      "GIF DONE\n"
     ]
    },
    {
     "data": {
      "text/plain": [
       "<Figure size 432x288 with 0 Axes>"
      ]
     },
     "metadata": {},
     "output_type": "display_data"
    }
   ],
   "source": [
    "trainer = Trainer(max_epochs=50)\n",
    "trainer.fit(model,\n",
    "            dataloader)\n"
   ]
  },
  {
   "attachments": {},
   "cell_type": "markdown",
   "metadata": {},
   "source": [
    "## 3) Training Loss"
   ]
  },
  {
   "cell_type": "code",
   "execution_count": 7,
   "metadata": {},
   "outputs": [
    {
     "data": {
      "image/png": "[encoded data removed]",
      "text/plain": [
       "<Figure size 432x288 with 1 Axes>"
      ]
     },
     "metadata": {
      "needs_background": "light"
     },
     "output_type": "display_data"
    }
   ],
   "source": [
    "# plot loss\n",
    "plt.plot(model.total_loss, label=\"Loss\")\n",
    "plt.legend()\n",
    "plt.xlabel(\"Epochs\")\n",
    "plt.ylabel(\"Loss\")\n",
    "plt.title(\"Training Loss\")\n",
    "plt.show()"
   ]
  },
  {
   "attachments": {},
   "cell_type": "markdown",
   "metadata": {},
   "source": [
    "## 4) Likelihood Ratio"
   ]
  },
  {
   "cell_type": "code",
   "execution_count": 8,
   "metadata": {},
   "outputs": [
    {
     "name": "stdout",
     "output_type": "stream",
     "text": [
      "torch.Size([100, 3])\n",
      "torch.Size([100, 1])\n"
     ]
    },
    {
     "data": {
      "image/png": "[encoded data removed]",
      "text/plain": [
       "<Figure size 432x288 with 1 Axes>"
      ]
     },
     "metadata": {
      "needs_background": "light"
     },
     "output_type": "display_data"
    }
   ],
   "source": [
    "# test model performance\n",
    "size = 100\n",
    "X = torch.empty((size, 3))\n",
    "X[:, 0] = torch.linspace(-3, 4, size)\n",
    "X[:, 1] = torch.zeros(size)\n",
    "X[:, 2] = torch.ones(size)\n",
    "\n",
    "output = model(X).detach().numpy()\n",
    "\n",
    "true_log_ratio = Normal(loc=0, scale=1).log_prob(X[:, 0]) - Normal(loc=1, scale=1).log_prob(X[:, 0]) # maybe combined likelihood here?\n",
    "\n",
    "plt.plot(X[:, 0].detach().numpy(), output, label=\"Model Output\")\n",
    "plt.plot(X[:, 0].detach().numpy(), true_log_ratio.detach().numpy(), label=\"True Log Ratio\")\n",
    "plt.legend()\n",
    "plt.xlabel(\"X\")\n",
    "plt.ylabel(\"Log Likelihood Ratio\")\n",
    "plt.show()\n",
    "\n"
   ]
  },
  {
   "attachments": {},
   "cell_type": "markdown",
   "metadata": {},
   "source": [
    "### Gaussians"
   ]
  },
  {
   "cell_type": "code",
   "execution_count": 9,
   "metadata": {},
   "outputs": [
    {
     "data": {
      "text/plain": [
       "[<matplotlib.lines.Line2D at 0x1364f0880>]"
      ]
     },
     "execution_count": 9,
     "metadata": {},
     "output_type": "execute_result"
    },
    {
     "data": {
      "image/png": "[encoded data removed]",
      "text/plain": [
       "<Figure size 432x288 with 1 Axes>"
      ]
     },
     "metadata": {
      "needs_background": "light"
     },
     "output_type": "display_data"
    }
   ],
   "source": [
    "g0 = Normal(loc=0, scale=1).rsample((1000,))\n",
    "g1 = Normal(loc=1, scale=1).rsample((1000,))\n",
    "\n",
    "x0, bins_0 = np.histogram(g0, bins=10, density=True)\n",
    "x1, bins_1 = np.histogram(g1, bins=10, density=True)\n",
    "\n",
    "bins_centralized_0 = (bins_0[:-1] + bins_0[1:])/2\n",
    "bins_centralized_1 = (bins_1[:-1] + bins_1[1:])/2\n",
    "plt.plot(bins_centralized_0, x0)\n",
    "plt.plot(bins_centralized_1, x1)"
   ]
  }
 ],
 "metadata": {
  "kernelspec": {
   "display_name": "Python 3",
   "language": "python",
   "name": "python3"
  },
  "language_info": {
   "codemirror_mode": {
    "name": "ipython",
    "version": 3
   },
   "file_extension": ".py",
   "mimetype": "text/x-python",
   "name": "python",
   "nbconvert_exporter": "python",
   "pygments_lexer": "ipython3",
   "version": "3.9.13"
  },
  "orig_nbformat": 4,
  "vscode": {
   "interpreter": {
    "hash": "b0fa6594d8f4cbf19f97940f81e996739fb7646882a419484c72d19e05852a7e"
   }
  }
 },
 "nbformat": 4,
 "nbformat_minor": 2
}
