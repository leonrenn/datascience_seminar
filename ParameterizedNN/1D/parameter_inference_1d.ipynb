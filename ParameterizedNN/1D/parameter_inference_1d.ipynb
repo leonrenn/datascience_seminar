{
 "cells": [
  {
   "cell_type": "markdown",
   "metadata": {},
   "source": [
    "# Parameter Inference"
   ]
  },
  {
   "cell_type": "markdown",
   "metadata": {},
   "source": [
    "### Import Modules"
   ]
  },
  {
   "cell_type": "code",
   "execution_count": 11,
   "metadata": {},
   "outputs": [],
   "source": [
    "# extern modules\n",
    "import os\n",
    "import torch\n",
    "import numpy as np\n",
    "import matplotlib.pyplot as plt\n",
    "\n",
    "# intern modules\n",
    "from PNN_model_1d import ParameterizedNeuralNet"
   ]
  },
  {
   "cell_type": "markdown",
   "metadata": {},
   "source": [
    "## 1) Load the Model"
   ]
  },
  {
   "cell_type": "markdown",
   "metadata": {},
   "source": [
    "The sigmoid function saturates for very big and very small values to 1 and 0, respectively and therefore causes _Division by zero_-problems when inverting the function.\n",
    "Therefore, the ParameterizedNeuralNetwork model is cut at the output layer and now displays the output of the last neuron which is the likelihood ratio."
   ]
  },
  {
   "cell_type": "code",
   "execution_count": 12,
   "metadata": {},
   "outputs": [
    {
     "data": {
      "text/plain": [
       "<All keys matched successfully>"
      ]
     },
     "execution_count": 12,
     "metadata": {},
     "output_type": "execute_result"
    }
   ],
   "source": [
    "# path to file\n",
    "PATH: str = \"../trained_models/PNN_1d.pth\"\n",
    "\n",
    "# load model from \n",
    "model = ParameterizedNeuralNet(llr_analysis=True)\n",
    "PNN_state_dict = torch.load(PATH)\n",
    "model.load_state_dict(PNN_state_dict)"
   ]
  },
  {
   "cell_type": "markdown",
   "metadata": {},
   "source": [
    "## 2) Parameter Inference"
   ]
  },
  {
   "cell_type": "markdown",
   "metadata": {},
   "source": [
    "The output of the model without the sigmoid is the log likelihood ratio."
   ]
  },
  {
   "cell_type": "code",
   "execution_count": 13,
   "metadata": {},
   "outputs": [],
   "source": [
    "# size of true signal\n",
    "size_true = 100 # instead of many samples one could plot lots of small parabolas and afterwards take the mean of all parabolas\n",
    "\n",
    "# parameter mean that should be infered on\n",
    "true_signal = 0.600\n",
    "\n",
    "# list for nllr (negative log likelihood ratio)\n",
    "nllr = []\n",
    "\n",
    "# x_0 values sampled from a gaussian\n",
    "x_0 = np.random.normal(loc=true_signal, scale=0.03, size=size_true)\n",
    "\n",
    "# specific background\n",
    "bg = 0.4\n",
    "background = np.ones_like(x_0) * bg\n",
    "\n",
    "# range for scanning through NN\n",
    "signals = np.linspace(0,1,size_true)\n",
    "\n",
    "\n",
    "# iterating through the NN\n",
    "for signal_idx, signal in enumerate(signals):\n",
    "\n",
    "    # generating background and hypothesis\n",
    "    hypothesis = np.ones_like(x_0) * signal # iterate through the signals for the same x_0 -> result in a parabel of the nllr\n",
    "\n",
    "\n",
    "    # creation data vector for the PNN\n",
    "    data = np.empty((size_true, 3))\n",
    "    data[:, 0] = x_0\n",
    "    data[:, 1] = background\n",
    "    data[:, 2] = hypothesis\n",
    "\n",
    "    # pushing to tensor format\n",
    "    data_tensor = torch.tensor(data).float()\n",
    "\n",
    "    # model evaluation\n",
    "    res = model(data_tensor).detach().numpy()\n",
    "\n",
    "    # nllr appending\n",
    "    lr = -2 * np.sum(res)\n",
    "    nllr.append(lr)"
   ]
  },
  {
   "cell_type": "markdown",
   "metadata": {},
   "source": [
    "Find inferenced parameter by minimizing the negative loglikelihood function."
   ]
  },
  {
   "cell_type": "code",
   "execution_count": 14,
   "metadata": {},
   "outputs": [
    {
     "name": "stdout",
     "output_type": "stream",
     "text": [
      "The minimum value for nnlr is: -2524.858642578125 which is at x = 0.596. Very close to the true value: 0.6\n"
     ]
    }
   ],
   "source": [
    "nllr = np.array(nllr)\n",
    "val, idx = min((val, idx) for (idx, val) in enumerate(nllr))\n",
    "print(f\"The minimum value for nnlr is: {val} which is at x = {np.round(signals[idx], 3)}. Very close to the true value: {true_signal}\")"
   ]
  },
  {
   "cell_type": "markdown",
   "metadata": {},
   "source": [
    "Plotting the log likelihood ratio function and the infered parameter which is the minimum."
   ]
  },
  {
   "cell_type": "code",
   "execution_count": 15,
   "metadata": {},
   "outputs": [
    {
     "data": {
      "image/png": "[encoded data removed]",
      "text/plain": [
       "<Figure size 432x288 with 1 Axes>"
      ]
     },
     "metadata": {
      "needs_background": "light"
     },
     "output_type": "display_data"
    }
   ],
   "source": [
    "plt.plot(signals, nllr, label=\"Negative Log Likelihood Ratio function\")\n",
    "plt.vlines(np.round(signals[idx], 3), min(nllr), max(nllr), colors=[\"red\"], label=f\"Inferenced Parameter $\\Theta$={np.round(signals[idx], 3)}\")\n",
    "plt.vlines(true_signal, min(nllr), max(nllr), colors=[\"green\"], label=f\"True Parameter $\\Theta$={np.round(signals[idx], 3)}\")\n",
    "plt.xlabel(\"Inferenced Parameter $\\Theta$\")\n",
    "plt.ylabel(\"Negative loglikelihood ratio\")\n",
    "plt.legend()\n",
    "plt.show()"
   ]
  },
  {
   "cell_type": "markdown",
   "metadata": {},
   "source": [
    "In the frequentist approach this is done multiple times to evaluate the mean and variance."
   ]
  },
  {
   "cell_type": "code",
   "execution_count": 22,
   "metadata": {},
   "outputs": [],
   "source": [
    "# theta in the frequentist approach\n",
    "theta_data = []\n",
    "for _ in range(100):\n",
    "    \n",
    "    # copy code from above and do the same thing for lots of random distributions.\n",
    "\n",
    "    # size of true signal\n",
    "    size_true = 1000 # instead of many samples one could plot lots of small parabolas and afterwards take the mean of all parabolas\n",
    "\n",
    "    # parameter mean that should be infered on\n",
    "    true_signal = 0.600\n",
    "\n",
    "    # list for nllr (negative log likelihood ratio)\n",
    "    nllr = []\n",
    "\n",
    "    # x_0 values sampled from a gaussian\n",
    "    x_0 = np.random.normal(loc=true_signal, scale=0.03, size=size_true)\n",
    "\n",
    "    # specific background\n",
    "    bg = 0.4\n",
    "    background = np.ones_like(x_0) * bg\n",
    "\n",
    "    # range for scanning through NN\n",
    "    signals = np.linspace(0,1,size_true)\n",
    "\n",
    "\n",
    "    # iterating through the NN\n",
    "    for signal_idx, signal in enumerate(signals):\n",
    "\n",
    "        # generating background and hypothesis\n",
    "        hypothesis = np.ones_like(x_0) * signal # iterate through the signals for the same x_0 -> result in a parabel of the nllr\n",
    "\n",
    "\n",
    "        # creation data vector for the PNN\n",
    "        data = np.empty((size_true, 3))\n",
    "        data[:, 0] = x_0\n",
    "        data[:, 1] = background\n",
    "        data[:, 2] = hypothesis\n",
    "\n",
    "        # pushing to tensor format\n",
    "        data_tensor = torch.tensor(data).float()\n",
    "\n",
    "        # model evaluation\n",
    "        res = model(data_tensor).detach().numpy()\n",
    "\n",
    "        # nllr appending\n",
    "        lr = -2 * np.sum(res)\n",
    "        nllr.append(lr)\n",
    "\n",
    "    # find the minimu\n",
    "    val, idx = min((val, idx) for (idx, val) in enumerate(nllr))\n",
    "    theta_data.append(np.round(signals[idx], 5))"
   ]
  },
  {
   "cell_type": "markdown",
   "metadata": {},
   "source": [
    "Plot the distribution of the infered parameter."
   ]
  },
  {
   "cell_type": "code",
   "execution_count": 24,
   "metadata": {},
   "outputs": [
    {
     "data": {
      "text/plain": [
       "(array([ 3.,  0., 18.,  0.,  0., 44.,  0., 28.,  0.,  7.]),\n",
       " array([0.5956, 0.596 , 0.5964, 0.5968, 0.5972, 0.5976, 0.598 , 0.5984,\n",
       "        0.5988, 0.5992, 0.5996]),\n",
       " <BarContainer object of 10 artists>)"
      ]
     },
     "execution_count": 24,
     "metadata": {},
     "output_type": "execute_result"
    },
    {
     "data": {
      "image/png": "[encoded data removed]",
      "text/plain": [
       "<Figure size 432x288 with 1 Axes>"
      ]
     },
     "metadata": {
      "needs_background": "light"
     },
     "output_type": "display_data"
    }
   ],
   "source": [
    "plt.hist(theta_data)"
   ]
  },
  {
   "cell_type": "markdown",
   "metadata": {},
   "source": [
    "Since the the accuracy of the model is obviously limited to three interfered parameter values, it makes sense to take the limit for lots of data point."
   ]
  },
  {
   "cell_type": "code",
   "execution_count": 25,
   "metadata": {},
   "outputs": [
    {
     "name": "stdout",
     "output_type": "stream",
     "text": [
      "In the 5 sigma region the value for theta is 0.598 +- 0.005\n"
     ]
    }
   ],
   "source": [
    "mean_theta = np.round(np.mean(theta_data),3)\n",
    "std = np.round(np.std(theta_data),3)\n",
    "\n",
    "print(f\"In the 5 sigma region the value for theta is {mean_theta} +- {5 * std}\")"
   ]
  }
 ],
 "metadata": {
  "kernelspec": {
   "display_name": "Python 3.9.13 64-bit",
   "language": "python",
   "name": "python3"
  },
  "language_info": {
   "codemirror_mode": {
    "name": "ipython",
    "version": 3
   },
   "file_extension": ".py",
   "mimetype": "text/x-python",
   "name": "python",
   "nbconvert_exporter": "python",
   "pygments_lexer": "ipython3",
   "version": "3.9.13"
  },
  "orig_nbformat": 4,
  "vscode": {
   "interpreter": {
    "hash": "b0fa6594d8f4cbf19f97940f81e996739fb7646882a419484c72d19e05852a7e"
   }
  }
 },
 "nbformat": 4,
 "nbformat_minor": 2
}
