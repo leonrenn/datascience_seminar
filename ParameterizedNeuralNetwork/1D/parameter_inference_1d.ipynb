{
 "cells": [
  {
   "cell_type": "markdown",
   "metadata": {},
   "source": [
    "# Parameter Inference"
   ]
  },
  {
   "cell_type": "markdown",
   "metadata": {},
   "source": [
    "### Import Modules"
   ]
  },
  {
   "cell_type": "code",
   "execution_count": 3,
   "metadata": {},
   "outputs": [],
   "source": [
    "# extern modules\n",
    "import os\n",
    "import torch\n",
    "import numpy as np\n",
    "import matplotlib.pyplot as plt\n",
    "\n",
    "# intern modules\n",
    "from PNN_model_1d import ParameterizedNeuralNet"
   ]
  },
  {
   "cell_type": "markdown",
   "metadata": {},
   "source": [
    "## 1) Load the Model"
   ]
  },
  {
   "cell_type": "markdown",
   "metadata": {},
   "source": [
    "The sigmoid function saturates for very big and very small values to 1 and 0, respectively and therefore causes _Division by zero_-problems when inverting the function.\n",
    "Therefore, the ParameterizedNeuralNetwork model is cut at the output layer and now displays the output of the last neuron which is the likelihood ratio."
   ]
  },
  {
   "cell_type": "code",
   "execution_count": 4,
   "metadata": {},
   "outputs": [
    {
     "data": {
      "text/plain": [
       "<All keys matched successfully>"
      ]
     },
     "execution_count": 4,
     "metadata": {},
     "output_type": "execute_result"
    }
   ],
   "source": [
    "# path to file\n",
    "PATH: str = \"../trained_models/PNN_1d.pth\"\n",
    "\n",
    "# load model from \n",
    "model = ParameterizedNeuralNet(llr_analysis=True)\n",
    "PNN_state_dict = torch.load(PATH)\n",
    "model.load_state_dict(PNN_state_dict)"
   ]
  },
  {
   "cell_type": "markdown",
   "metadata": {},
   "source": [
    "## 2) Parameter Inference"
   ]
  },
  {
   "cell_type": "markdown",
   "metadata": {},
   "source": [
    "The output of the model without the sigmoid is the log likelihood ratio."
   ]
  },
  {
   "cell_type": "code",
   "execution_count": 5,
   "metadata": {},
   "outputs": [],
   "source": [
    "# size of true signal\n",
    "size_true = 100 # instead of many samples one could plot lots of small parabolas and afterwards take the mean of all parabolas\n",
    "\n",
    "# parameter mean that should be infered on\n",
    "true_signal = 0.600\n",
    "\n",
    "# list for nllr (negative log likelihood ratio)\n",
    "nllr = []\n",
    "\n",
    "# x_0 values sampled from a gaussian\n",
    "x_0 = np.random.normal(loc=true_signal, scale=0.03, size=size_true)\n",
    "\n",
    "# specific background\n",
    "bg = 0.4\n",
    "background = np.ones_like(x_0) * bg\n",
    "\n",
    "# range for scanning through NN\n",
    "signals = np.linspace(0,1,size_true)\n",
    "\n",
    "\n",
    "# iterating through the NN\n",
    "for signal_idx, signal in enumerate(signals):\n",
    "\n",
    "    # generating background and hypothesis\n",
    "    hypothesis = np.ones_like(x_0) * signal # iterate through the signals for the same x_0 -> result in a parabel of the nllr\n",
    "\n",
    "\n",
    "    # creation data vector for the PNN\n",
    "    data = np.empty((size_true, 3))\n",
    "    data[:, 0] = x_0\n",
    "    data[:, 1] = background\n",
    "    data[:, 2] = hypothesis\n",
    "\n",
    "    # pushing to tensor format\n",
    "    data_tensor = torch.tensor(data).float()\n",
    "\n",
    "    # model evaluation\n",
    "    res = model(data_tensor).detach().numpy()\n",
    "\n",
    "    # nllr appending\n",
    "    lr = -2 * np.sum(res)\n",
    "    nllr.append(lr)"
   ]
  },
  {
   "cell_type": "markdown",
   "metadata": {},
   "source": [
    "Find inferenced parameter by minimizing the negative loglikelihood function."
   ]
  },
  {
   "cell_type": "code",
   "execution_count": 6,
   "metadata": {},
   "outputs": [
    {
     "name": "stdout",
     "output_type": "stream",
     "text": [
      "The minimum value for nnlr is: -2457.243408203125 which is at x = 0.586. Very close to the true value: 0.6\n"
     ]
    }
   ],
   "source": [
    "nllr = np.array(nllr)\n",
    "val, idx = min((val, idx) for (idx, val) in enumerate(nllr))\n",
    "print(f\"The minimum value for nnlr is: {val} which is at x = {np.round(signals[idx], 3)}. Very close to the true value: {true_signal}\")"
   ]
  },
  {
   "cell_type": "markdown",
   "metadata": {},
   "source": [
    "Plotting the log likelihood ratio function and the infered parameter which is the minimum."
   ]
  },
  {
   "cell_type": "code",
   "execution_count": 7,
   "metadata": {},
   "outputs": [
    {
     "data": {
      "image/png": "[encoded data removed]",
      "text/plain": [
       "<Figure size 432x288 with 1 Axes>"
      ]
     },
     "metadata": {
      "needs_background": "light"
     },
     "output_type": "display_data"
    }
   ],
   "source": [
    "plt.plot(signals, nllr, label=\"Negative Log Likelihood Ratio function\")\n",
    "plt.vlines(np.round(signals[idx], 3), min(nllr), max(nllr), colors=[\"red\"], label=f\"Inferenced Parameter $\\Theta$={np.round(signals[idx], 3)}\")\n",
    "plt.xlabel(\"Inferenced Parameter $\\Theta$\")\n",
    "plt.ylabel(\"Negative loglikelihood ratio\")\n",
    "plt.legend()\n",
    "plt.show()"
   ]
  },
  {
   "cell_type": "markdown",
   "metadata": {},
   "source": [
    "In the frequentist approach this is done multiple times to evaluate the mean and variance."
   ]
  },
  {
   "cell_type": "code",
   "execution_count": 8,
   "metadata": {},
   "outputs": [],
   "source": [
    "# theta in the frequentist approach\n",
    "theta_data = []\n",
    "for _ in range(500):\n",
    "    \n",
    "    # copy code from above and do the same thing for lots of random distributions.\n",
    "\n",
    "    # size of true signal\n",
    "    size_true = 100 # instead of many samples one could plot lots of small parabolas and afterwards take the mean of all parabolas\n",
    "\n",
    "    # parameter mean that should be infered on\n",
    "    true_signal = 0.600\n",
    "\n",
    "    # list for nllr (negative log likelihood ratio)\n",
    "    nllr = []\n",
    "\n",
    "    # x_0 values sampled from a gaussian\n",
    "    x_0 = np.random.normal(loc=true_signal, scale=0.03, size=size_true)\n",
    "\n",
    "    # specific background\n",
    "    bg = 0.4\n",
    "    background = np.ones_like(x_0) * bg\n",
    "\n",
    "    # range for scanning through NN\n",
    "    signals = np.linspace(0,1,size_true)\n",
    "\n",
    "\n",
    "    # iterating through the NN\n",
    "    for signal_idx, signal in enumerate(signals):\n",
    "\n",
    "        # generating background and hypothesis\n",
    "        hypothesis = np.ones_like(x_0) * signal # iterate through the signals for the same x_0 -> result in a parabel of the nllr\n",
    "\n",
    "\n",
    "        # creation data vector for the PNN\n",
    "        data = np.empty((size_true, 3))\n",
    "        data[:, 0] = x_0\n",
    "        data[:, 1] = background\n",
    "        data[:, 2] = hypothesis\n",
    "\n",
    "        # pushing to tensor format\n",
    "        data_tensor = torch.tensor(data).float()\n",
    "\n",
    "        # model evaluation\n",
    "        res = model(data_tensor).detach().numpy()\n",
    "\n",
    "        # nllr appending\n",
    "        lr = -2 * np.sum(res)\n",
    "        nllr.append(lr)\n",
    "\n",
    "    # find the minimu\n",
    "    val, idx = min((val, idx) for (idx, val) in enumerate(nllr))\n",
    "    theta_data.append(np.round(signals[idx], 2))"
   ]
  },
  {
   "cell_type": "markdown",
   "metadata": {},
   "source": [
    "Plot the distribution of the infered parameter."
   ]
  },
  {
   "cell_type": "code",
   "execution_count": 9,
   "metadata": {},
   "outputs": [
    {
     "data": {
      "text/plain": [
       "(array([  8., 425.,  67.]),\n",
       " array([0.59      , 0.59666667, 0.60333333, 0.61      ]),\n",
       " <BarContainer object of 3 artists>)"
      ]
     },
     "execution_count": 9,
     "metadata": {},
     "output_type": "execute_result"
    },
    {
     "data": {
      "image/png": "[encoded data removed]",
      "text/plain": [
       "<Figure size 432x288 with 1 Axes>"
      ]
     },
     "metadata": {
      "needs_background": "light"
     },
     "output_type": "display_data"
    }
   ],
   "source": [
    "plt.hist(theta_data, bins=3)"
   ]
  },
  {
   "cell_type": "markdown",
   "metadata": {},
   "source": [
    "Since the the accuracy of the model is obviously limited to three interfered parameter values, it makes sense to take the limit for lots of data point."
   ]
  },
  {
   "cell_type": "code",
   "execution_count": 19,
   "metadata": {},
   "outputs": [
    {
     "name": "stdout",
     "output_type": "stream",
     "text": [
      "In the 5 sigma region the value for theta is 0.601 +- 0.02\n"
     ]
    }
   ],
   "source": [
    "mean_theta = np.round(np.mean(theta_data),3)\n",
    "std = np.round(np.std(theta_data),3)\n",
    "\n",
    "print(f\"In the 5 sigma region the value for theta is {mean_theta} +- {5 * std}\")"
   ]
  }
 ],
 "metadata": {
  "kernelspec": {
   "display_name": "Python 3.9.13 64-bit",
   "language": "python",
   "name": "python3"
  },
  "language_info": {
   "codemirror_mode": {
    "name": "ipython",
    "version": 3
   },
   "file_extension": ".py",
   "mimetype": "text/x-python",
   "name": "python",
   "nbconvert_exporter": "python",
   "pygments_lexer": "ipython3",
   "version": "3.9.13"
  },
  "orig_nbformat": 4,
  "vscode": {
   "interpreter": {
    "hash": "b0fa6594d8f4cbf19f97940f81e996739fb7646882a419484c72d19e05852a7e"
   }
  }
 },
 "nbformat": 4,
 "nbformat_minor": 2
}
