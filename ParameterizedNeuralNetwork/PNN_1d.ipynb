{
 "cells": [
  {
   "cell_type": "markdown",
   "metadata": {},
   "source": [
    "# PNN for particle detection in HEP"
   ]
  },
  {
   "cell_type": "markdown",
   "metadata": {},
   "source": [
    "In ***High Energy Physics*** it is common that one has to decide if the data that is taken is from some specific signal ($H_{a}$) or from the background ($H_{0}$).<br>\n",
    "This is simple binary hypothesis testing. For big experiments and complicated processes the likelihood may not be known and therefore has to be learned. <br>\n",
    "Neural Network provide a very nice approach to this problem. In this case, a NN is trained on parameterized (means as hypothesis) 1-dimesional data."
   ]
  },
  {
   "cell_type": "code",
   "execution_count": 2,
   "metadata": {},
   "outputs": [],
   "source": [
    "# standard python libraries for data maniipulation and visualization\n",
    "import numpy as np\n",
    "import matplotlib.pyplot as plt"
   ]
  },
  {
   "cell_type": "markdown",
   "metadata": {},
   "source": [
    "## 0) Signal and background event visualization\n",
    "\n",
    "Gaussian distributions of which one is the background and the other is the signal."
   ]
  },
  {
   "cell_type": "code",
   "execution_count": 3,
   "metadata": {},
   "outputs": [
    {
     "data": {
      "image/png": "[encoded data removed]",
      "text/plain": [
       "<Figure size 432x288 with 1 Axes>"
      ]
     },
     "metadata": {
      "needs_background": "light"
     },
     "output_type": "display_data"
    }
   ],
   "source": [
    "#np.random.seed(42)\n",
    "sizes = 200\n",
    "background = np.random.normal(loc=0.200, scale=0.03, size=sizes)\n",
    "signal = np.random.normal(loc=0.300, scale=0.03, size=sizes)\n",
    "plt.hist(background, bins=10, label=f\"H: Background\", density=True, alpha=0.5)\n",
    "plt.hist(signal, bins=10, label=f\"H: Signal\", density=True, alpha=0.5)\n",
    "plt.legend()\n",
    "plt.xlabel(\"X\")\n",
    "plt.ylabel(\"Event densities\")\n",
    "plt.show()"
   ]
  },
  {
   "cell_type": "markdown",
   "metadata": {},
   "source": [
    "## 1) Create custom dataset for training the PNN"
   ]
  },
  {
   "cell_type": "code",
   "execution_count": 4,
   "metadata": {},
   "outputs": [],
   "source": [
    "# torch library for machine learning and utilities for data generating process\n",
    "import torch\n",
    "import pytorch_lightning as pl\n",
    "from torch.utils.data import DataLoader, Dataset"
   ]
  },
  {
   "cell_type": "code",
   "execution_count": 60,
   "metadata": {},
   "outputs": [],
   "source": [
    "class CustomDataset(Dataset):\n",
    "    def __init__(self, x_range_lower: float = 0.0,\n",
    "                        x_range_upper: float = 1.0,\n",
    "                        trained_params: int = 20,\n",
    "                       data_points: int = 1000,\n",
    "                       total_generations: int = 10000):\n",
    "        \"\"\"Generates data for NN training. Output is the parameterized data\n",
    "        X and the labels Y per dataset index. \n",
    "\n",
    "        Args:\n",
    "            x_range_lower (float, optional): Lower border of data training. Defaults to 0.0.\n",
    "            x_range_upper (float, optional): Upper border of data training. Defaults to 1.0.\n",
    "            trained_params (int, optional): Devides range from lower to upper bound into equal segments to \n",
    "            improve scaling performance on the training range. Defaults to 20.\n",
    "            data_points (int, optional): Amount of data points generated per each event. Defaults to 1000.\n",
    "            total_generations (int, optional): Amount of events that the NN is trained on. Defaults to 10000.\n",
    "        \"\"\"\n",
    "        # seeding for ensuring to always generate the same data\n",
    "        np.random.seed(42)\n",
    "        \n",
    "        # default class variables\n",
    "        self.x_range_lower = x_range_lower\n",
    "        self.x_range_upper = x_range_upper\n",
    "        self.trained_params = trained_params\n",
    "        self.data_points = data_points\n",
    "        self.total_generations = total_generations\n",
    "\n",
    "        # hypothesis\n",
    "        hypothesis = np.linspace(start=self.x_range_lower,\n",
    "                                 stop=self.x_range_upper,\n",
    "                                 num=self.trained_params)\n",
    "\n",
    "\n",
    "        # empty dataset holding the generations of events\n",
    "        self.dataset = {}\n",
    "\n",
    "        # vector that contains the targets for binary classification (0,...,0,1,...,1) and transform to tensor\n",
    "        Y = np.concatenate([np.zeros(self.data_points), np.ones(self.data_points)])\n",
    "        Y = torch.tensor(Y, requires_grad=True).float()\n",
    "\n",
    "        # iterating over amount of generations and storing\n",
    "        # converted tensors in dataset\n",
    "        for gen_idx in range(self.total_generations):\n",
    "\n",
    "            # empty vector that holds the data from the events from one generation (x, H_bg, H_signal)\n",
    "            X = np.zeros(shape=(self.data_points * 2, 3))\n",
    "\n",
    "            # random selection of hypothesis\n",
    "            background, signal = np.random.choice(hypothesis,2)\n",
    "\n",
    "            # event generation for hypothesis\n",
    "            X[:self.data_points, 0] = np.random.normal(loc = background, scale = 0.02, size = self.data_points)\n",
    "            X[self.data_points:, 0] = np.random.normal(loc = signal, scale = 0.02, size = self.data_points)\n",
    "\n",
    "            # hypothesis for parameterizing the NN\n",
    "            X[:, 1] = np.ones(self.data_points * 2) * background\n",
    "            X[:, 2] = np.ones(self.data_points * 2) * signal\n",
    "\n",
    "\n",
    "            # make tensors of data and parameters\n",
    "            X = torch.tensor(X, requires_grad=True).float()\n",
    "    \n",
    "\n",
    "            self.dataset[gen_idx] = (X, Y)\n",
    "\n",
    "    def __len__(self):\n",
    "        return self.total_generations # len(self.dataset)\n",
    "\n",
    "    def __getitem__(self, index):\n",
    "        return self.dataset[index][0], self.dataset[index][1]"
   ]
  },
  {
   "cell_type": "markdown",
   "metadata": {},
   "source": [
    "Generate the data."
   ]
  },
  {
   "cell_type": "code",
   "execution_count": 61,
   "metadata": {},
   "outputs": [],
   "source": [
    "custom_ds = CustomDataset()\n",
    "custom_dl = DataLoader(custom_ds, batch_size=16, shuffle=True)"
   ]
  },
  {
   "cell_type": "markdown",
   "metadata": {},
   "source": [
    "Example of dataset event."
   ]
  },
  {
   "cell_type": "code",
   "execution_count": 7,
   "metadata": {},
   "outputs": [],
   "source": [
    "# custom_ds[0]"
   ]
  },
  {
   "cell_type": "markdown",
   "metadata": {},
   "source": [
    "## 2) Construct Neural Network with hypothesis as extra input features"
   ]
  },
  {
   "cell_type": "code",
   "execution_count": 62,
   "metadata": {},
   "outputs": [],
   "source": [
    "# torch functionalities for NN designing\n",
    "import torch.nn as nn\n",
    "import torch.nn.functional as F"
   ]
  },
  {
   "cell_type": "code",
   "execution_count": 75,
   "metadata": {},
   "outputs": [],
   "source": [
    "class ParameterizedNeuralNet(pl.LightningModule):\n",
    "    def __init__(self, llr_analysis=False): \n",
    "        \"\"\"Neural Network parameterized with hypothesis of signal and background\n",
    "        means.\n",
    "\n",
    "        Args:\n",
    "            llr_analysis (bool, optional): For likelihood ratio analysis the \n",
    "            output should be without the Sigmoid (Do not use when training). Defaults to False.\n",
    "        \"\"\"\n",
    "        super().__init__()\n",
    "\n",
    "        # losses for training process visualization\n",
    "        self.losses = []\n",
    "\n",
    "        # likelihood ratio analysis\n",
    "        self.llr_analysis = llr_analysis\n",
    "\n",
    "        # network structure\n",
    "        self.net = nn.Sequential(nn.Linear(in_features=3, out_features=20),\n",
    "                                 nn.PReLU(),\n",
    "                                 nn.Linear(in_features=20, out_features=20),\n",
    "                                 nn.PReLU(),\n",
    "                                 nn.Linear(in_features=20, out_features=20),\n",
    "                                 nn.PReLU(),\n",
    "                                 nn.Linear(in_features=20, out_features=20),\n",
    "                                 nn.PReLU(),\n",
    "                                 nn.Linear(in_features=20, out_features=1))\n",
    "                                 \n",
    "        # deciding if the output will come from the sigmoid layer or from last neuron\n",
    "        if self.llr_analysis is False:\n",
    "            self.net.append(nn.Sigmoid())\n",
    "                                 \n",
    "    def forward(self, x):\n",
    "        return self.net(x)\n",
    "\n",
    "    def configure_optimizers(self):\n",
    "        optim  = torch.optim.Adam(self.parameters(), lr=1e-3)\n",
    "        return optim\n",
    "\n",
    "    def training_step(self, train_batch, batch_idx):\n",
    "        X, Y = train_batch\n",
    "        Y_hat = self.net(X)\n",
    "        loss = F.binary_cross_entropy(torch.squeeze(Y_hat, -1), Y)\n",
    "        self.losses.append(loss.detach().numpy())\n",
    "        self.log(\"train_loss\", loss)\n",
    "        return loss"
   ]
  },
  {
   "cell_type": "markdown",
   "metadata": {},
   "source": [
    "## 3) Train the NN"
   ]
  },
  {
   "cell_type": "code",
   "execution_count": 64,
   "metadata": {},
   "outputs": [
    {
     "name": "stderr",
     "output_type": "stream",
     "text": [
      "/opt/homebrew/lib/python3.9/site-packages/pytorch_lightning/trainer/connectors/callback_connector.py:96: LightningDeprecationWarning: Setting `Trainer(progress_bar_refresh_rate=10)` is deprecated in v1.5 and will be removed in v1.7. Please pass `pytorch_lightning.callbacks.progress.TQDMProgressBar` with `refresh_rate` directly to the Trainer's `callbacks` argument instead. Or, to disable the progress bar pass `enable_progress_bar = False` to the Trainer.\n",
      "  rank_zero_deprecation(\n",
      "GPU available: False, used: False\n",
      "TPU available: False, using: 0 TPU cores\n",
      "IPU available: False, using: 0 IPUs\n",
      "HPU available: False, using: 0 HPUs\n",
      "\n",
      "  | Name | Type       | Params\n",
      "------------------------------------\n",
      "0 | net  | Sequential | 1.4 K \n",
      "------------------------------------\n",
      "1.4 K     Trainable params\n",
      "0         Non-trainable params\n",
      "1.4 K     Total params\n",
      "0.005     Total estimated model params size (MB)\n",
      "/opt/homebrew/lib/python3.9/site-packages/pytorch_lightning/trainer/connectors/data_connector.py:240: PossibleUserWarning: The dataloader, train_dataloader, does not have many workers which may be a bottleneck. Consider increasing the value of the `num_workers` argument` (try 8 which is the number of cpus on this machine) in the `DataLoader` init to improve performance.\n",
      "  rank_zero_warn(\n"
     ]
    },
    {
     "data": {
      "application/vnd.jupyter.widget-view+json": {
       "model_id": "af5d078fd772401786ec91208c00d593",
       "version_major": 2,
       "version_minor": 0
      },
      "text/plain": [
       "Training: 0it [00:00, ?it/s]"
      ]
     },
     "metadata": {},
     "output_type": "display_data"
    }
   ],
   "source": [
    "# initalilizing the model\n",
    "model = ParameterizedNeuralNet()\n",
    "\n",
    "# initializing the trainer\n",
    "trainer = pl.Trainer(max_epochs=5, progress_bar_refresh_rate=10)\n",
    "\n",
    "# train the model on the dataset\n",
    "trainer.fit(model, custom_dl)"
   ]
  },
  {
   "cell_type": "markdown",
   "metadata": {},
   "source": [
    "### Save model after training"
   ]
  },
  {
   "cell_type": "code",
   "execution_count": 11,
   "metadata": {},
   "outputs": [
    {
     "name": "stdout",
     "output_type": "stream",
     "text": [
      "Saved the model dictionary under /Users/leonrenn/Documents/Studies/Physics/Physics Master/Semester 3/Proseminar/datascience_seminar/ParameterizedNeuralNetwork/tmp/PNN_1d.pth. Exiting.\n"
     ]
    }
   ],
   "source": [
    "#working with directories\n",
    "import os\n",
    "\n",
    "# save the trained model\n",
    "# path to save parameters from training\n",
    "PATH = os.getcwd() + \"/tmp/PNN_1d.pth\"\n",
    "if not os.path.exists(os.path.dirname(PATH)):\n",
    "    os.mkdir(os.path.dirname(PATH))\n",
    "\n",
    "torch.save(model.state_dict(), PATH)\n",
    "print(f\"Saved the model dictionary under {PATH}. Exiting.\")"
   ]
  },
  {
   "cell_type": "markdown",
   "metadata": {},
   "source": [
    "## 4) Loss of the training"
   ]
  },
  {
   "cell_type": "markdown",
   "metadata": {},
   "source": [
    "Visualization of training process."
   ]
  },
  {
   "cell_type": "code",
   "execution_count": 65,
   "metadata": {},
   "outputs": [
    {
     "data": {
      "text/plain": [
       "<matplotlib.legend.Legend at 0x2f81a0520>"
      ]
     },
     "execution_count": 65,
     "metadata": {},
     "output_type": "execute_result"
    },
    {
     "data": {
      "image/png": "[encoded data removed]",
      "text/plain": [
       "<Figure size 432x288 with 1 Axes>"
      ]
     },
     "metadata": {
      "needs_background": "light"
     },
     "output_type": "display_data"
    }
   ],
   "source": [
    "losses = np.asarray(model.losses)\n",
    "losses.shape\n",
    "\n",
    "plt.plot(np.arange(0,losses.shape[0]), losses, label=\"Loss of PNN\")\n",
    "plt.xlabel(\"All steps during epochs trained.\")\n",
    "plt.ylabel(\"Loss\")\n",
    "plt.legend()"
   ]
  },
  {
   "cell_type": "markdown",
   "metadata": {},
   "source": [
    "## 5) Test some examples of PNN\n",
    "\n",
    "Visualization of different signals plotted against one background."
   ]
  },
  {
   "cell_type": "code",
   "execution_count": 66,
   "metadata": {},
   "outputs": [
    {
     "data": {
      "image/png": "[encoded data removed]",
      "text/plain": [
       "<Figure size 1440x720 with 3 Axes>"
      ]
     },
     "metadata": {
      "needs_background": "light"
     },
     "output_type": "display_data"
    }
   ],
   "source": [
    "# trained range\n",
    "x_range = np.linspace(0.00, 1.00, 1000)\n",
    "\n",
    "# background and signals\n",
    "bg = 0.400\n",
    "signals = [0.4, 0.600, 0.900]\n",
    "\n",
    "# different subplots for the results\n",
    "fig, axes = plt.subplots(ncols=len(signals), sharey=True)\n",
    "fig.set_figheight(10)\n",
    "fig.set_figwidth(20)\n",
    "\n",
    "# iterating through the binary classification processes\n",
    "\n",
    "for signal_idx, signal in enumerate(signals):\n",
    "\n",
    "    # generating background and hypothesis\n",
    "    hypothesis = np.ones_like(x_range) * signal\n",
    "    background = np.ones_like(x_range) * bg\n",
    "\n",
    "    # creation data vector for the PNN\n",
    "    data = np.empty((1000, 3))\n",
    "    data[:, 0] = x_range\n",
    "    data[:, 1] = background\n",
    "    data[:, 2] = hypothesis\n",
    "\n",
    "    # pushing to tensor format\n",
    "    data_tensor = torch.tensor(data).float()\n",
    "\n",
    "    # model evaluation\n",
    "    res = model(data_tensor).detach().numpy()\n",
    "\n",
    "    # histograms\n",
    "    counts_signals, bins_signal = np.histogram(np.random.normal(loc=signal, scale=0.03, size=1000), bins = 10)\n",
    "    counts_bg, bins_bg = np.histogram(np.random.normal(loc=bg, scale=0.03, size=1000), bins = 10)\n",
    "    \n",
    "    # centeralizing the bins\n",
    "    bins_center_bg = (bins_bg[1:] + bins_bg[:-1])/2\n",
    "    bins_center_signal = (bins_signal[1:] + bins_signal[:-1])/2\n",
    "\n",
    "    # normalizing the counts\n",
    "    counts_signals = counts_signals/counts_signals.max()\n",
    "    counts_bg = counts_bg/counts_bg.max()\n",
    "\n",
    "    axes[signal_idx].fill_between(bins_center_signal, counts_signals, alpha=0.5)\n",
    "    axes[signal_idx].fill_between(bins_center_bg, counts_bg, alpha=0.5)\n",
    "\n",
    "    axes[signal_idx].plot(x_range, res, label=f\"H: Signal({signal}) against background {bg}\")\n",
    "    axes[signal_idx].set_ylabel(\"Probability to discard background hypothesis.\")\n",
    "    axes[signal_idx].set_xlabel(\"x\")\n",
    "    axes[signal_idx].legend()\n",
    "\n",
    "\n",
    "plt.show()"
   ]
  },
  {
   "cell_type": "markdown",
   "metadata": {},
   "source": [
    "### 5.a) Animation of function"
   ]
  },
  {
   "cell_type": "markdown",
   "metadata": {},
   "source": [
    "Generate the frames for different hypothesis and one background."
   ]
  },
  {
   "cell_type": "code",
   "execution_count": 67,
   "metadata": {},
   "outputs": [],
   "source": [
    "# package for generating the GIF\n",
    "import imageio.v3 as iio\n",
    "\n",
    "# range for scanning through NN\n",
    "signals = np.linspace(0,1,100)\n",
    "\n",
    "# iterating through the NN\n",
    "for signal_idx, signal in enumerate(signals):\n",
    "\n",
    "    # generating background and hypothesis\n",
    "    hypothesis = np.ones_like(x_range) * signal\n",
    "    background = np.ones_like(x_range) * bg\n",
    "\n",
    "    # creation data vector for the PNN\n",
    "    data = np.empty((1000, 3))\n",
    "    data[:, 0] = x_range\n",
    "    data[:, 1] = background\n",
    "    data[:, 2] = hypothesis\n",
    "\n",
    "    # pushing to tensor format\n",
    "    data_tensor = torch.tensor(data).float()\n",
    "\n",
    "    # model evaluation\n",
    "    res = model(data_tensor).detach().numpy()\n",
    "\n",
    "    # histograms\n",
    "    counts_signals, bins_signal = np.histogram(np.random.normal(loc=signal, scale=0.03, size=1000), bins = 10)\n",
    "    counts_bg, bins_bg = np.histogram(np.random.normal(loc=bg, scale=0.03, size=1000), bins = 10)\n",
    "    \n",
    "    # centeralizing the bins\n",
    "    bins_center_bg = (bins_bg[1:] + bins_bg[:-1])/2\n",
    "    bins_center_signal = (bins_signal[1:] + bins_signal[:-1])/2\n",
    "\n",
    "    # normalizing the counts\n",
    "    counts_signals = counts_signals/counts_signals.max()\n",
    "    counts_bg = counts_bg/counts_bg.max()\n",
    "\n",
    "    # histograms in the plot\n",
    "    plt.fill_between(bins_center_signal, counts_signals, alpha=0.5)\n",
    "    plt.fill_between(bins_center_bg, counts_bg, alpha=0.5)\n",
    "\n",
    "    # plot the function with meta data\n",
    "    plt.plot(x_range, res, label=f\"H: Signal({np.round(signal,2)}) against background {bg}\")\n",
    "    plt.ylabel(\"Probability to discard background hypothesis.\")\n",
    "\n",
    "    # plt.legend() -> looks better in the GIF\n",
    "    plt.xlabel(\"x\")\n",
    "\n",
    "    # save the plot\n",
    "    plt.savefig((f'{os.getcwd()}/frames/1d_signal_idx_{signal_idx}.png'))\n",
    "\n",
    "    # flush the figure\n",
    "    plt.close()\n",
    "    "
   ]
  },
  {
   "cell_type": "code",
   "execution_count": 68,
   "metadata": {},
   "outputs": [],
   "source": [
    "# create animation\n",
    "frames = np.stack([iio.imread(f'{os.getcwd()}/frames/1d_signal_idx_{signal_idx}.png') for signal_idx, signal in enumerate(signals)], axis=0)\n",
    "iio.imwrite('1d_signal.gif', frames)\n"
   ]
  },
  {
   "cell_type": "markdown",
   "metadata": {},
   "source": [
    "### 5.b) Display animation"
   ]
  },
  {
   "cell_type": "markdown",
   "metadata": {},
   "source": [
    "![](1d_signal.gif)"
   ]
  },
  {
   "cell_type": "markdown",
   "metadata": {},
   "source": [
    "## 6) Negative Loglikelihood (Parameter Inference)"
   ]
  },
  {
   "cell_type": "markdown",
   "metadata": {},
   "source": [
    "The likelihood ratio function $\\mathbf{lr}$ is in the last neuron of the network when taking the inverse of the function that is used to display which is the sigmoid $\\mathbf{\\sigma}$.<br>\n",
    "$lr = \\frac{\\Pi p(x_0|\\theta)}{\\Pi p(x_0|\\theta_0)} \\rightarrow nllr = - 2 \\log{lr} = - 2 \\log{\\frac{\\Pi p(x_0|\\theta)}{\\Pi p(x_0|\\theta_0)}} = - 2 \\Sigma \\log{p(x_0|\\theta)} + C$<br><br>\n",
    "$\\sigma = \\frac{1}{1+exp^{-lr}} \\rightarrow lr = \\log{(\\frac{\\sigma}{1-\\sigma})}$"
   ]
  },
  {
   "cell_type": "markdown",
   "metadata": {},
   "source": [
    "The sigmoid function saturates for very big and very small values to 1 and 0, respectively and therefore causes _Division by zero_-problems when inverting the function.\n",
    "Therefore, the ParameterizedNeuralNetwork model is cut at the output layer and now displays the output of the last neuron which is the likelihood ratio."
   ]
  },
  {
   "cell_type": "code",
   "execution_count": 76,
   "metadata": {},
   "outputs": [
    {
     "data": {
      "text/plain": [
       "<All keys matched successfully>"
      ]
     },
     "execution_count": 76,
     "metadata": {},
     "output_type": "execute_result"
    }
   ],
   "source": [
    "# redefining the model to get output of last neuron\n",
    "# therefore load old model with adapted layer structure\n",
    "PATH: str = \"/tmp/PNN_1d.pth\"\n",
    "model  = ParameterizedNeuralNet(llr_analysis=True)\n",
    "PNN_state_dict = torch.load(os.getcwd()+PATH)\n",
    "model.load_state_dict(PNN_state_dict)"
   ]
  },
  {
   "cell_type": "code",
   "execution_count": 127,
   "metadata": {},
   "outputs": [],
   "source": [
    "# size of true signal\n",
    "size_true = 100 # instead of many samples one could plot lots of small parabolas and afterwards take the mean of all parabolas\n",
    "\n",
    "# parameter mean that should be infered on\n",
    "true_signal = 0.600\n",
    "\n",
    "# list for nllr (negative log likelihood ratio)\n",
    "nllr = []\n",
    "\n",
    "# x_0 values sampled from a gaussian\n",
    "x_0 = np.random.normal(loc=true_signal, scale=0.03, size=size_true)\n",
    "\n",
    "# specific background\n",
    "bg = 0.4\n",
    "background = np.ones_like(x_0) * bg\n",
    "\n",
    "# range for scanning through NN\n",
    "signals = np.linspace(0,1,size_true)\n",
    "\n",
    "\n",
    "# iterating through the NN\n",
    "for signal_idx, signal in enumerate(signals):\n",
    "\n",
    "    # generating background and hypothesis\n",
    "    hypothesis = np.ones_like(x_0) * signal # iterate through the signals for the same x_0 -> result in a parabel of the nllr\n",
    "\n",
    "\n",
    "    # creation data vector for the PNN\n",
    "    data = np.empty((size_true, 3))\n",
    "    data[:, 0] = x_0\n",
    "    data[:, 1] = background\n",
    "    data[:, 2] = hypothesis\n",
    "\n",
    "    # pushing to tensor format\n",
    "    data_tensor = torch.tensor(data).float()\n",
    "\n",
    "    # model evaluation\n",
    "    res = model(data_tensor).detach().numpy()\n",
    "\n",
    "    # nllr appending\n",
    "    lr = -2 * np.sum(res)\n",
    "    nllr.append(lr)"
   ]
  },
  {
   "cell_type": "markdown",
   "metadata": {},
   "source": [
    "Find inferenced parameter by minimizing the negative loglikelihood function."
   ]
  },
  {
   "cell_type": "code",
   "execution_count": 130,
   "metadata": {},
   "outputs": [
    {
     "name": "stdout",
     "output_type": "stream",
     "text": [
      "The minimum value for nnlr is: -3287.669921875 which is at x = 0.596. Very close to the true value: 0.6\n"
     ]
    }
   ],
   "source": [
    "nllr = np.array(nllr)\n",
    "val, idx = min((val, idx) for (idx, val) in enumerate(nllr))\n",
    "print(f\"The minimum value for nnlr is: {val} which is at x = {np.round(signals[idx], 3)}. Very close to the true value: {true_signal}\")"
   ]
  },
  {
   "cell_type": "markdown",
   "metadata": {},
   "source": [
    "Plotting the log likelihood ratio function and the infered parameter which is the minimum."
   ]
  },
  {
   "cell_type": "code",
   "execution_count": 131,
   "metadata": {},
   "outputs": [
    {
     "data": {
      "image/png": "[encoded data removed]",
      "text/plain": [
       "<Figure size 432x288 with 1 Axes>"
      ]
     },
     "metadata": {
      "needs_background": "light"
     },
     "output_type": "display_data"
    }
   ],
   "source": [
    "plt.plot(signals, nllr, label=\"Negative Log Likelihood Ratio function\")\n",
    "plt.vlines(np.round(signals[idx], 3), min(nllr), max(nllr), colors=[\"red\"], label=f\"Inferenced Parameter $\\Theta$={np.round(signals[idx], 3)}\")\n",
    "plt.xlabel(\"Inferenced Parameter $\\Theta$\")\n",
    "plt.ylabel(\"Negative loglikelihood ratio\")\n",
    "plt.legend()\n",
    "plt.show()"
   ]
  },
  {
   "cell_type": "markdown",
   "metadata": {},
   "source": [
    "Shifitng the nllr-function to the y=0 axis for the minimum in order to retrieve the confidence intervals."
   ]
  },
  {
   "cell_type": "code",
   "execution_count": 133,
   "metadata": {},
   "outputs": [
    {
     "data": {
      "image/png": "[encoded data removed]",
      "text/plain": [
       "<Figure size 432x288 with 1 Axes>"
      ]
     },
     "metadata": {
      "needs_background": "light"
     },
     "output_type": "display_data"
    }
   ],
   "source": [
    "shifted_nllr = nllr - nllr.min()\n",
    "plt.plot(signals, shifted_nllr, label=\"Negative Log Likelihood Ratio function\")\n",
    "plt.vlines(np.round(signals[idx], 3), min(shifted_nllr), max(shifted_nllr), colors=[\"red\"], label=f\"Inferenced Parameter $\\Theta$={np.round(signals[idx], 3)}\",)\n",
    "plt.xlabel(\"Inferenced Parameter $\\Theta$\")\n",
    "plt.ylabel(\"Negative loglikelihood ratio\")\n",
    "plt.legend()\n",
    "plt.show()"
   ]
  },
  {
   "cell_type": "markdown",
   "metadata": {},
   "source": [
    "## 7) Loading the model"
   ]
  },
  {
   "cell_type": "code",
   "execution_count": 16,
   "metadata": {},
   "outputs": [
    {
     "data": {
      "text/plain": [
       "<All keys matched successfully>"
      ]
     },
     "execution_count": 16,
     "metadata": {},
     "output_type": "execute_result"
    }
   ],
   "source": [
    "# path to file\n",
    "PATH: str = \"/tmp/PNN_1d.pth\"\n",
    "\n",
    "# load model from \n",
    "model = ParameterizedNeuralNet()\n",
    "PNN_state_dict = torch.load(os.getcwd()+PATH)\n",
    "model.load_state_dict(PNN_state_dict)"
   ]
  }
 ],
 "metadata": {
  "kernelspec": {
   "display_name": "Python 3.9.13 64-bit",
   "language": "python",
   "name": "python3"
  },
  "language_info": {
   "codemirror_mode": {
    "name": "ipython",
    "version": 3
   },
   "file_extension": ".py",
   "mimetype": "text/x-python",
   "name": "python",
   "nbconvert_exporter": "python",
   "pygments_lexer": "ipython3",
   "version": "3.9.13"
  },
  "orig_nbformat": 4,
  "vscode": {
   "interpreter": {
    "hash": "b0fa6594d8f4cbf19f97940f81e996739fb7646882a419484c72d19e05852a7e"
   }
  }
 },
 "nbformat": 4,
 "nbformat_minor": 2
}
