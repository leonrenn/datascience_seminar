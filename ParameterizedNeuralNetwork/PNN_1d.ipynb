{
 "cells": [
  {
   "cell_type": "markdown",
   "metadata": {},
   "source": [
    "# PNN for particle detection in HEP"
   ]
  },
  {
   "cell_type": "code",
   "execution_count": 56,
   "metadata": {},
   "outputs": [],
   "source": [
    "import numpy as np\n",
    "import matplotlib.pyplot as plt"
   ]
  },
  {
   "cell_type": "markdown",
   "metadata": {},
   "source": [
    "Classification of signal events to background events with different particle masses."
   ]
  },
  {
   "cell_type": "markdown",
   "metadata": {},
   "source": [
    "## 0) Signal and background events\n",
    "Gauss distributions of which one is the background and the others are signals at different masses."
   ]
  },
  {
   "cell_type": "code",
   "execution_count": 57,
   "metadata": {},
   "outputs": [
    {
     "data": {
      "image/png": "[encoded data removed]",
      "text/plain": [
       "<Figure size 432x288 with 1 Axes>"
      ]
     },
     "metadata": {
      "needs_background": "light"
     },
     "output_type": "display_data"
    }
   ],
   "source": [
    "np.random.seed(42)\n",
    "sizes = 1000\n",
    "peaks = np.array([0.00, 0.10, 0.20, 0.30 ])\n",
    "labels = [\"Background\", \"0.100\", \"0.200\", \"0.300\"]\n",
    "data = [np.random.normal(loc=peak, scale=0.03, size=sizes) for peak in peaks]\n",
    "for idx, d in enumerate(data):\n",
    "    plt.hist(d, bins=10, label=f\"H: {labels[idx]}\", density=True)\n",
    "plt.legend()\n",
    "plt.xlabel(\"Masses (arbitrary scale)\")\n",
    "plt.ylabel(\"Event densities\")\n",
    "plt.show()"
   ]
  },
  {
   "cell_type": "markdown",
   "metadata": {},
   "source": [
    "## 1) Create custom dataset for training the PNN"
   ]
  },
  {
   "cell_type": "code",
   "execution_count": 58,
   "metadata": {},
   "outputs": [],
   "source": [
    "import torch\n",
    "import pytorch_lightning as pl\n",
    "from torch.utils.data import DataLoader, Dataset"
   ]
  },
  {
   "cell_type": "code",
   "execution_count": 59,
   "metadata": {},
   "outputs": [],
   "source": [
    "class CustomDataset(Dataset):\n",
    "    def __init__(self, masses = np.linspace(0, 1.0, 20),\n",
    "                       data_points: int = 100,\n",
    "                       total_generations: int = 10000):\n",
    "        np.random.seed(42)\n",
    "        self.masses = masses\n",
    "        self.data_points = data_points\n",
    "        self.total_generations = total_generations\n",
    "        self.dataset = {}\n",
    "        for gen_num in range(self.total_generations):\n",
    "            # coordinate generation\n",
    "            X = np.zeros(shape=(self.data_points * 2, 3))\n",
    "            Y = np.concatenate([np.zeros(self.data_points), np.ones(self.data_points)])\n",
    "            # randomly generated gaussian curves for background and different masses\n",
    "            random_mass = np.random.choice(self.masses[1:])\n",
    "            X[:self.data_points, 0] = np.random.normal(loc = self.masses[0], scale = 0.02, size = self.data_points)\n",
    "            X[self.data_points:, 0] = np.random.normal(loc = random_mass, scale = 0.02, size = self.data_points)\n",
    "            X[:, 1] = np.ones(self.data_points * 2) * self.masses[0]\n",
    "            X[:, 2] = np.ones(self.data_points * 2) * random_mass\n",
    "\n",
    "\n",
    "            # make tensors\n",
    "            X = torch.tensor(X, requires_grad=True).float()\n",
    "            Y = torch.tensor(Y, requires_grad=True).float()\n",
    "\n",
    "            self.dataset[gen_num] = (X, Y)\n",
    "\n",
    "    def __len__(self):\n",
    "        return self.total_generations # len(self.dataset)\n",
    "\n",
    "    def __getitem__(self, index):\n",
    "        return self.dataset[index][0], self.dataset[index][1]"
   ]
  },
  {
   "cell_type": "markdown",
   "metadata": {},
   "source": [
    "Generate the data."
   ]
  },
  {
   "cell_type": "code",
   "execution_count": 60,
   "metadata": {},
   "outputs": [],
   "source": [
    "custom_ds = CustomDataset()\n",
    "custom_dl = DataLoader(custom_ds, batch_size=10, shuffle=True)"
   ]
  },
  {
   "cell_type": "markdown",
   "metadata": {},
   "source": [
    "Example of dataset event."
   ]
  },
  {
   "cell_type": "code",
   "execution_count": 61,
   "metadata": {},
   "outputs": [
    {
     "data": {
      "text/plain": [
       "(tensor([[-0.0110,  0.0000,  0.3684],\n",
       "         [ 0.0103,  0.0000,  0.3684],\n",
       "         [ 0.0095,  0.0000,  0.3684],\n",
       "         [ 0.0274,  0.0000,  0.3684],\n",
       "         [-0.0183,  0.0000,  0.3684],\n",
       "         [-0.0025,  0.0000,  0.3684],\n",
       "         [-0.0402,  0.0000,  0.3684],\n",
       "         [-0.0099,  0.0000,  0.3684],\n",
       "         [ 0.0079,  0.0000,  0.3684],\n",
       "         [-0.0186,  0.0000,  0.3684],\n",
       "         [ 0.0016,  0.0000,  0.3684],\n",
       "         [-0.0032,  0.0000,  0.3684],\n",
       "         [ 0.0004,  0.0000,  0.3684],\n",
       "         [-0.0086,  0.0000,  0.3684],\n",
       "         [-0.0106,  0.0000,  0.3684],\n",
       "         [-0.0023,  0.0000,  0.3684],\n",
       "         [ 0.0044,  0.0000,  0.3684],\n",
       "         [-0.0154,  0.0000,  0.3684],\n",
       "         [ 0.0028,  0.0000,  0.3684],\n",
       "         [-0.0007,  0.0000,  0.3684],\n",
       "         [ 0.0227,  0.0000,  0.3684],\n",
       "         [-0.0021,  0.0000,  0.3684],\n",
       "         [-0.0105,  0.0000,  0.3684],\n",
       "         [ 0.0383,  0.0000,  0.3684],\n",
       "         [-0.0405,  0.0000,  0.3684],\n",
       "         [ 0.0224,  0.0000,  0.3684],\n",
       "         [ 0.0156,  0.0000,  0.3684],\n",
       "         [-0.0220,  0.0000,  0.3684],\n",
       "         [ 0.0226,  0.0000,  0.3684],\n",
       "         [ 0.0075,  0.0000,  0.3684],\n",
       "         [-0.0077,  0.0000,  0.3684],\n",
       "         [-0.0232,  0.0000,  0.3684],\n",
       "         [ 0.0113,  0.0000,  0.3684],\n",
       "         [-0.0141,  0.0000,  0.3684],\n",
       "         [-0.0276,  0.0000,  0.3684],\n",
       "         [-0.0071,  0.0000,  0.3684],\n",
       "         [-0.0092,  0.0000,  0.3684],\n",
       "         [ 0.0013,  0.0000,  0.3684],\n",
       "         [-0.0035,  0.0000,  0.3684],\n",
       "         [ 0.0240,  0.0000,  0.3684],\n",
       "         [ 0.0140,  0.0000,  0.3684],\n",
       "         [-0.0034,  0.0000,  0.3684],\n",
       "         [-0.0181,  0.0000,  0.3684],\n",
       "         [ 0.0238,  0.0000,  0.3684],\n",
       "         [ 0.0157,  0.0000,  0.3684],\n",
       "         [ 0.0531,  0.0000,  0.3684],\n",
       "         [ 0.0053,  0.0000,  0.3684],\n",
       "         [ 0.0328,  0.0000,  0.3684],\n",
       "         [ 0.0092,  0.0000,  0.3684],\n",
       "         [ 0.0017,  0.0000,  0.3684],\n",
       "         [-0.0302,  0.0000,  0.3684],\n",
       "         [ 0.0144,  0.0000,  0.3684],\n",
       "         [-0.0169,  0.0000,  0.3684],\n",
       "         [-0.0103,  0.0000,  0.3684],\n",
       "         [-0.0009,  0.0000,  0.3684],\n",
       "         [-0.0055,  0.0000,  0.3684],\n",
       "         [-0.0313,  0.0000,  0.3684],\n",
       "         [-0.0159,  0.0000,  0.3684],\n",
       "         [ 0.0186,  0.0000,  0.3684],\n",
       "         [ 0.0136,  0.0000,  0.3684],\n",
       "         [ 0.0140,  0.0000,  0.3684],\n",
       "         [ 0.0035,  0.0000,  0.3684],\n",
       "         [ 0.0132,  0.0000,  0.3684],\n",
       "         [ 0.0048,  0.0000,  0.3684],\n",
       "         [-0.0034,  0.0000,  0.3684],\n",
       "         [ 0.0233,  0.0000,  0.3684],\n",
       "         [-0.0049,  0.0000,  0.3684],\n",
       "         [-0.0154,  0.0000,  0.3684],\n",
       "         [ 0.0242,  0.0000,  0.3684],\n",
       "         [ 0.0247,  0.0000,  0.3684],\n",
       "         [-0.0315,  0.0000,  0.3684],\n",
       "         [ 0.0128,  0.0000,  0.3684],\n",
       "         [-0.0409,  0.0000,  0.3684],\n",
       "         [ 0.0214,  0.0000,  0.3684],\n",
       "         [-0.0187,  0.0000,  0.3684],\n",
       "         [ 0.0157,  0.0000,  0.3684],\n",
       "         [-0.0123,  0.0000,  0.3684],\n",
       "         [ 0.0067,  0.0000,  0.3684],\n",
       "         [-0.0276,  0.0000,  0.3684],\n",
       "         [-0.0056,  0.0000,  0.3684],\n",
       "         [-0.0012,  0.0000,  0.3684],\n",
       "         [ 0.0192,  0.0000,  0.3684],\n",
       "         [ 0.0359,  0.0000,  0.3684],\n",
       "         [ 0.0116,  0.0000,  0.3684],\n",
       "         [ 0.0060,  0.0000,  0.3684],\n",
       "         [-0.0206,  0.0000,  0.3684],\n",
       "         [-0.0284,  0.0000,  0.3684],\n",
       "         [ 0.0038,  0.0000,  0.3684],\n",
       "         [ 0.0027,  0.0000,  0.3684],\n",
       "         [ 0.0122,  0.0000,  0.3684],\n",
       "         [ 0.0141,  0.0000,  0.3684],\n",
       "         [ 0.0072,  0.0000,  0.3684],\n",
       "         [-0.0293,  0.0000,  0.3684],\n",
       "         [ 0.0179,  0.0000,  0.3684],\n",
       "         [-0.0021,  0.0000,  0.3684],\n",
       "         [-0.0191,  0.0000,  0.3684],\n",
       "         [-0.0083,  0.0000,  0.3684],\n",
       "         [-0.0280,  0.0000,  0.3684],\n",
       "         [-0.0069,  0.0000,  0.3684],\n",
       "         [ 0.0150,  0.0000,  0.3684],\n",
       "         [ 0.3619,  0.0000,  0.3684],\n",
       "         [ 0.3512,  0.0000,  0.3684],\n",
       "         [ 0.3633,  0.0000,  0.3684],\n",
       "         [ 0.3776,  0.0000,  0.3684],\n",
       "         [ 0.3414,  0.0000,  0.3684],\n",
       "         [ 0.3480,  0.0000,  0.3684],\n",
       "         [ 0.3710,  0.0000,  0.3684],\n",
       "         [ 0.3434,  0.0000,  0.3684],\n",
       "         [ 0.4073,  0.0000,  0.3684],\n",
       "         [ 0.3654,  0.0000,  0.3684],\n",
       "         [ 0.3503,  0.0000,  0.3684],\n",
       "         [ 0.3521,  0.0000,  0.3684],\n",
       "         [ 0.3588,  0.0000,  0.3684],\n",
       "         [ 0.3570,  0.0000,  0.3684],\n",
       "         [ 0.3266,  0.0000,  0.3684],\n",
       "         [ 0.3937,  0.0000,  0.3684],\n",
       "         [ 0.3681,  0.0000,  0.3684],\n",
       "         [ 0.3679,  0.0000,  0.3684],\n",
       "         [ 0.3848,  0.0000,  0.3684],\n",
       "         [ 0.3473,  0.0000,  0.3684],\n",
       "         [ 0.3533,  0.0000,  0.3684],\n",
       "         [ 0.3776,  0.0000,  0.3684],\n",
       "         [ 0.3671,  0.0000,  0.3684],\n",
       "         [ 0.3753,  0.0000,  0.3684],\n",
       "         [ 0.3668,  0.0000,  0.3684],\n",
       "         [ 0.3636,  0.0000,  0.3684],\n",
       "         [ 0.3971,  0.0000,  0.3684],\n",
       "         [ 0.3897,  0.0000,  0.3684],\n",
       "         [ 0.3184,  0.0000,  0.3684],\n",
       "         [ 0.3980,  0.0000,  0.3684],\n",
       "         [ 0.4116,  0.0000,  0.3684],\n",
       "         [ 0.3931,  0.0000,  0.3684],\n",
       "         [ 0.3641,  0.0000,  0.3684],\n",
       "         [ 0.3546,  0.0000,  0.3684],\n",
       "         [ 0.3830,  0.0000,  0.3684],\n",
       "         [ 0.3560,  0.0000,  0.3684],\n",
       "         [ 0.3755,  0.0000,  0.3684],\n",
       "         [ 0.3680,  0.0000,  0.3684],\n",
       "         [ 0.3928,  0.0000,  0.3684],\n",
       "         [ 0.3606,  0.0000,  0.3684],\n",
       "         [ 0.3596,  0.0000,  0.3684],\n",
       "         [ 0.3760,  0.0000,  0.3684],\n",
       "         [ 0.4071,  0.0000,  0.3684],\n",
       "         [ 0.3700,  0.0000,  0.3684],\n",
       "         [ 0.3601,  0.0000,  0.3684],\n",
       "         [ 0.3856,  0.0000,  0.3684],\n",
       "         [ 0.3828,  0.0000,  0.3684],\n",
       "         [ 0.3494,  0.0000,  0.3684],\n",
       "         [ 0.3577,  0.0000,  0.3684],\n",
       "         [ 0.3904,  0.0000,  0.3684],\n",
       "         [ 0.3770,  0.0000,  0.3684],\n",
       "         [ 0.3190,  0.0000,  0.3684],\n",
       "         [ 0.3781,  0.0000,  0.3684],\n",
       "         [ 0.3870,  0.0000,  0.3684],\n",
       "         [ 0.3517,  0.0000,  0.3684],\n",
       "         [ 0.3820,  0.0000,  0.3684],\n",
       "         [ 0.4059,  0.0000,  0.3684],\n",
       "         [ 0.3763,  0.0000,  0.3684],\n",
       "         [ 0.3559,  0.0000,  0.3684],\n",
       "         [ 0.3580,  0.0000,  0.3684],\n",
       "         [ 0.3687,  0.0000,  0.3684],\n",
       "         [ 0.3760,  0.0000,  0.3684],\n",
       "         [ 0.3697,  0.0000,  0.3684],\n",
       "         [ 0.3785,  0.0000,  0.3684],\n",
       "         [ 0.3655,  0.0000,  0.3684],\n",
       "         [ 0.3720,  0.0000,  0.3684],\n",
       "         [ 0.3877,  0.0000,  0.3684],\n",
       "         [ 0.3471,  0.0000,  0.3684],\n",
       "         [ 0.3706,  0.0000,  0.3684],\n",
       "         [ 0.3705,  0.0000,  0.3684],\n",
       "         [ 0.3868,  0.0000,  0.3684],\n",
       "         [ 0.3639,  0.0000,  0.3684],\n",
       "         [ 0.3815,  0.0000,  0.3684],\n",
       "         [ 0.3905,  0.0000,  0.3684],\n",
       "         [ 0.3314,  0.0000,  0.3684],\n",
       "         [ 0.3918,  0.0000,  0.3684],\n",
       "         [ 0.3487,  0.0000,  0.3684],\n",
       "         [ 0.3465,  0.0000,  0.3684],\n",
       "         [ 0.3108,  0.0000,  0.3684],\n",
       "         [ 0.3524,  0.0000,  0.3684],\n",
       "         [ 0.3683,  0.0000,  0.3684],\n",
       "         [ 0.3608,  0.0000,  0.3684],\n",
       "         [ 0.3592,  0.0000,  0.3684],\n",
       "         [ 0.3462,  0.0000,  0.3684],\n",
       "         [ 0.3858,  0.0000,  0.3684],\n",
       "         [ 0.3876,  0.0000,  0.3684],\n",
       "         [ 0.3768,  0.0000,  0.3684],\n",
       "         [ 0.3307,  0.0000,  0.3684],\n",
       "         [ 0.4139,  0.0000,  0.3684],\n",
       "         [ 0.3714,  0.0000,  0.3684],\n",
       "         [ 0.3792,  0.0000,  0.3684],\n",
       "         [ 0.3385,  0.0000,  0.3684],\n",
       "         [ 0.3682,  0.0000,  0.3684],\n",
       "         [ 0.3767,  0.0000,  0.3684],\n",
       "         [ 0.3656,  0.0000,  0.3684],\n",
       "         [ 0.3859,  0.0000,  0.3684],\n",
       "         [ 0.3944,  0.0000,  0.3684],\n",
       "         [ 0.3416,  0.0000,  0.3684],\n",
       "         [ 0.3854,  0.0000,  0.3684],\n",
       "         [ 0.3763,  0.0000,  0.3684]], grad_fn=<ToCopyBackward0>),\n",
       " tensor([0., 0., 0., 0., 0., 0., 0., 0., 0., 0., 0., 0., 0., 0., 0., 0., 0., 0.,\n",
       "         0., 0., 0., 0., 0., 0., 0., 0., 0., 0., 0., 0., 0., 0., 0., 0., 0., 0.,\n",
       "         0., 0., 0., 0., 0., 0., 0., 0., 0., 0., 0., 0., 0., 0., 0., 0., 0., 0.,\n",
       "         0., 0., 0., 0., 0., 0., 0., 0., 0., 0., 0., 0., 0., 0., 0., 0., 0., 0.,\n",
       "         0., 0., 0., 0., 0., 0., 0., 0., 0., 0., 0., 0., 0., 0., 0., 0., 0., 0.,\n",
       "         0., 0., 0., 0., 0., 0., 0., 0., 0., 0., 1., 1., 1., 1., 1., 1., 1., 1.,\n",
       "         1., 1., 1., 1., 1., 1., 1., 1., 1., 1., 1., 1., 1., 1., 1., 1., 1., 1.,\n",
       "         1., 1., 1., 1., 1., 1., 1., 1., 1., 1., 1., 1., 1., 1., 1., 1., 1., 1.,\n",
       "         1., 1., 1., 1., 1., 1., 1., 1., 1., 1., 1., 1., 1., 1., 1., 1., 1., 1.,\n",
       "         1., 1., 1., 1., 1., 1., 1., 1., 1., 1., 1., 1., 1., 1., 1., 1., 1., 1.,\n",
       "         1., 1., 1., 1., 1., 1., 1., 1., 1., 1., 1., 1., 1., 1., 1., 1., 1., 1.,\n",
       "         1., 1.], grad_fn=<ToCopyBackward0>))"
      ]
     },
     "execution_count": 61,
     "metadata": {},
     "output_type": "execute_result"
    }
   ],
   "source": [
    "custom_ds[0]"
   ]
  },
  {
   "cell_type": "markdown",
   "metadata": {},
   "source": [
    "## 2) Construct NN Network with extra input feature "
   ]
  },
  {
   "cell_type": "code",
   "execution_count": 62,
   "metadata": {},
   "outputs": [],
   "source": [
    "import torch.nn as nn\n",
    "import torch.nn.functional as F"
   ]
  },
  {
   "cell_type": "code",
   "execution_count": 63,
   "metadata": {},
   "outputs": [],
   "source": [
    "class ParameterizedNeuralNet(pl.LightningModule):\n",
    "    def __init__(self):\n",
    "        super().__init__()\n",
    "        self.losses = []\n",
    "        self.net = nn.Sequential(nn.Linear(in_features=3, out_features=20),\n",
    "                                 nn.ReLU(),\n",
    "                                 nn.Linear(in_features=20, out_features=20),\n",
    "                                 nn.ReLU(),\n",
    "                                 nn.Linear(in_features=20, out_features=20),\n",
    "                                 nn.ReLU(),\n",
    "                                 nn.Linear(in_features=20, out_features=20),\n",
    "                                 nn.ReLU(),\n",
    "                                 nn.Linear(in_features=20, out_features=1),\n",
    "                                 nn.Sigmoid())\n",
    "    def forward(self, x):\n",
    "        return self.net(x)\n",
    "\n",
    "    def configure_optimizers(self):\n",
    "        optim  = torch.optim.Adam(self.parameters(), lr=1e-3)\n",
    "        return optim\n",
    "\n",
    "    def training_step(self, train_batch, batch_idx):\n",
    "        X, Y = train_batch\n",
    "        Y_hat = self.net(X)\n",
    "        loss = F.binary_cross_entropy(torch.squeeze(Y_hat, -1), Y)\n",
    "        self.losses.append(loss.detach().numpy())\n",
    "        self.log(\"train_loss\", loss)\n",
    "        return loss"
   ]
  },
  {
   "cell_type": "markdown",
   "metadata": {},
   "source": [
    "## 3) Train the NN"
   ]
  },
  {
   "cell_type": "code",
   "execution_count": 64,
   "metadata": {},
   "outputs": [
    {
     "name": "stderr",
     "output_type": "stream",
     "text": [
      "GPU available: False, used: False\n",
      "TPU available: False, using: 0 TPU cores\n",
      "IPU available: False, using: 0 IPUs\n",
      "HPU available: False, using: 0 HPUs\n",
      "\n",
      "  | Name | Type       | Params\n",
      "------------------------------------\n",
      "0 | net  | Sequential | 1.4 K \n",
      "------------------------------------\n",
      "1.4 K     Trainable params\n",
      "0         Non-trainable params\n",
      "1.4 K     Total params\n",
      "0.005     Total estimated model params size (MB)\n"
     ]
    },
    {
     "data": {
      "application/vnd.jupyter.widget-view+json": {
       "model_id": "ffe8e2a342b5422fbde5bf596bf45991",
       "version_major": 2,
       "version_minor": 0
      },
      "text/plain": [
       "Training: 0it [00:00, ?it/s]"
      ]
     },
     "metadata": {},
     "output_type": "display_data"
    }
   ],
   "source": [
    "model = ParameterizedNeuralNet()\n",
    "trainer = pl.Trainer(max_epochs=25, progress_bar_refresh_rate=10)\n",
    "trainer.fit(model, custom_dl)"
   ]
  },
  {
   "cell_type": "markdown",
   "metadata": {},
   "source": [
    "## 4) Loss of the training"
   ]
  },
  {
   "cell_type": "code",
   "execution_count": 65,
   "metadata": {},
   "outputs": [
    {
     "data": {
      "text/plain": [
       "[<matplotlib.lines.Line2D at 0x2fd640b80>]"
      ]
     },
     "execution_count": 65,
     "metadata": {},
     "output_type": "execute_result"
    },
    {
     "data": {
      "image/png": "[encoded data removed]",
      "text/plain": [
       "<Figure size 432x288 with 1 Axes>"
      ]
     },
     "metadata": {
      "needs_background": "light"
     },
     "output_type": "display_data"
    }
   ],
   "source": [
    "losses = np.asarray(model.losses)\n",
    "losses.shape\n",
    "\n",
    "plt.plot(np.arange(0,losses.shape[0]), losses)"
   ]
  },
  {
   "cell_type": "markdown",
   "metadata": {},
   "source": [
    "## 5) Test some examples of PNN\n",
    "\n",
    "Visualization of different mass hypotheses plotted against different masses."
   ]
  },
  {
   "cell_type": "code",
   "execution_count": 67,
   "metadata": {},
   "outputs": [
    {
     "data": {
      "image/png": "[encoded data removed]",
      "text/plain": [
       "<Figure size 432x288 with 1 Axes>"
      ]
     },
     "metadata": {
      "needs_background": "light"
     },
     "output_type": "display_data"
    }
   ],
   "source": [
    "masses = np.linspace(0.00, 1.00, 1000)\n",
    "bg = 0.0\n",
    "\n",
    "for mass in [0.600, 0.700, 0.800, 1.00, 1.5]:\n",
    "    hypothesis = np.ones_like(masses) * mass\n",
    "    background = np.ones_like(masses) * bg\n",
    "\n",
    "    data = np.empty((1000, 3))\n",
    "    data[:, 0] = masses\n",
    "    data[:, 1] = background\n",
    "    data[:, 2] = hypothesis\n",
    "\n",
    "    data_tensor = torch.tensor(data).float()\n",
    "\n",
    "    res = model(data_tensor).detach().numpy()\n",
    "\n",
    "    if mass == 0.750:\n",
    "        plt.plot(masses, res, label=f\"H: mass is {mass} against background. Not trained on!\")\n",
    "    else:    \n",
    "        plt.plot(masses, res, label=f\"H: mass is {mass} against background\")\n",
    "plt.xlabel(\"Masses\")\n",
    "plt.ylabel(\"Probability to discard background hypothesis.\")\n",
    "plt.legend()\n",
    "plt.show()\n"
   ]
  },
  {
   "cell_type": "markdown",
   "metadata": {},
   "source": [
    "## 6) ROC and AUC"
   ]
  },
  {
   "cell_type": "code",
   "execution_count": null,
   "metadata": {},
   "outputs": [],
   "source": []
  }
 ],
 "metadata": {
  "kernelspec": {
   "display_name": "Python 3.9.13 64-bit",
   "language": "python",
   "name": "python3"
  },
  "language_info": {
   "codemirror_mode": {
    "name": "ipython",
    "version": 3
   },
   "file_extension": ".py",
   "mimetype": "text/x-python",
   "name": "python",
   "nbconvert_exporter": "python",
   "pygments_lexer": "ipython3",
   "version": "3.9.13"
  },
  "orig_nbformat": 4,
  "vscode": {
   "interpreter": {
    "hash": "b0fa6594d8f4cbf19f97940f81e996739fb7646882a419484c72d19e05852a7e"
   }
  }
 },
 "nbformat": 4,
 "nbformat_minor": 2
}
